{
 "cells": [
  {
   "cell_type": "code",
   "execution_count": 16,
   "metadata": {},
   "outputs": [
    {
     "ename": "ImportError",
     "evalue": "cannot import name '_check_weights' from 'sklearn.neighbors._base' (/Users/yashagarwal/anaconda3/lib/python3.10/site-packages/sklearn/neighbors/_base.py)",
     "output_type": "error",
     "traceback": [
      "\u001b[0;31m---------------------------------------------------------------------------\u001b[0m",
      "\u001b[0;31mImportError\u001b[0m                               Traceback (most recent call last)",
      "Cell \u001b[0;32mIn[16], line 5\u001b[0m\n\u001b[1;32m      3\u001b[0m \u001b[39mimport\u001b[39;00m \u001b[39msys\u001b[39;00m\n\u001b[1;32m      4\u001b[0m \u001b[39m#sys.modules['sklearn.neighbors.base'] = sklearn.neighbors._base\u001b[39;00m\n\u001b[0;32m----> 5\u001b[0m \u001b[39mimport\u001b[39;00m \u001b[39mmissingpy\u001b[39;00m\n\u001b[1;32m      7\u001b[0m \u001b[39m# Assuming you have a DataFrame called df with missing values\u001b[39;00m\n\u001b[1;32m      8\u001b[0m \u001b[39m# Example:\u001b[39;00m\n\u001b[1;32m      9\u001b[0m df \u001b[39m=\u001b[39m pd\u001b[39m.\u001b[39mread_csv(\u001b[39m'\u001b[39m\u001b[39mexamples/individual01.csv\u001b[39m\u001b[39m'\u001b[39m)\n",
      "File \u001b[0;32m~/anaconda3/lib/python3.10/site-packages/missingpy/__init__.py:1\u001b[0m\n\u001b[0;32m----> 1\u001b[0m \u001b[39mfrom\u001b[39;00m \u001b[39m.\u001b[39;00m\u001b[39mknnimpute\u001b[39;00m \u001b[39mimport\u001b[39;00m KNNImputer\n\u001b[1;32m      2\u001b[0m \u001b[39mfrom\u001b[39;00m \u001b[39m.\u001b[39;00m\u001b[39mmissforest\u001b[39;00m \u001b[39mimport\u001b[39;00m MissForest\n\u001b[1;32m      4\u001b[0m __all__ \u001b[39m=\u001b[39m [\u001b[39m'\u001b[39m\u001b[39mKNNImputer\u001b[39m\u001b[39m'\u001b[39m, \u001b[39m'\u001b[39m\u001b[39mMissForest\u001b[39m\u001b[39m'\u001b[39m]\n",
      "File \u001b[0;32m~/anaconda3/lib/python3.10/site-packages/missingpy/knnimpute.py:13\u001b[0m\n\u001b[1;32m     11\u001b[0m \u001b[39mfrom\u001b[39;00m \u001b[39msklearn\u001b[39;00m\u001b[39m.\u001b[39;00m\u001b[39mutils\u001b[39;00m\u001b[39m.\u001b[39;00m\u001b[39mvalidation\u001b[39;00m \u001b[39mimport\u001b[39;00m check_is_fitted\n\u001b[1;32m     12\u001b[0m \u001b[39mfrom\u001b[39;00m \u001b[39msklearn\u001b[39;00m\u001b[39m.\u001b[39;00m\u001b[39mutils\u001b[39;00m\u001b[39m.\u001b[39;00m\u001b[39mvalidation\u001b[39;00m \u001b[39mimport\u001b[39;00m FLOAT_DTYPES\n\u001b[0;32m---> 13\u001b[0m \u001b[39mfrom\u001b[39;00m \u001b[39msklearn\u001b[39;00m\u001b[39m.\u001b[39;00m\u001b[39mneighbors\u001b[39;00m\u001b[39m.\u001b[39;00m\u001b[39mbase\u001b[39;00m \u001b[39mimport\u001b[39;00m _check_weights\n\u001b[1;32m     14\u001b[0m \u001b[39mfrom\u001b[39;00m \u001b[39msklearn\u001b[39;00m\u001b[39m.\u001b[39;00m\u001b[39mneighbors\u001b[39;00m\u001b[39m.\u001b[39;00m\u001b[39mbase\u001b[39;00m \u001b[39mimport\u001b[39;00m _get_weights\n\u001b[1;32m     16\u001b[0m \u001b[39mfrom\u001b[39;00m \u001b[39m.\u001b[39;00m\u001b[39mpairwise_external\u001b[39;00m \u001b[39mimport\u001b[39;00m pairwise_distances\n",
      "\u001b[0;31mImportError\u001b[0m: cannot import name '_check_weights' from 'sklearn.neighbors._base' (/Users/yashagarwal/anaconda3/lib/python3.10/site-packages/sklearn/neighbors/_base.py)"
     ]
    }
   ],
   "source": [
    "import pandas as pd\n",
    "import sklearn.neighbors._base\n",
    "import sys\n",
    "sys.modules['sklearn.neighbors.base'] = sklearn.neighbors._base\n",
    "import missingpy\n",
    "from sklearn.neighbors.base import _check_weights\n",
    "\n",
    "# Assuming you have a DataFrame called df with missing values\n",
    "# Example:\n",
    "df = pd.read_csv('examples/individual01.csv')\n",
    "\n",
    "# Initialize MissForest imputer\n",
    "imputer = MissForest()\n",
    "\n",
    "# Impute missing values\n",
    "imputed_df = imputer.fit_transform(df)\n",
    "\n",
    "print(\"Original DataFrame:\")\n",
    "df.to_csv('/Users/yashagarwal/Downloads/original_data.csv', index=False)\n",
    "#print(df)\n",
    "print(\"\\nImputed DataFrame:\")\n",
    "imputed_df.to_csv('/Users/yashagarwal/Downloads/imputed_data.csv', index=False)\n",
    "#print(imputed_df)"
   ]
  }
 ],
 "metadata": {
  "kernelspec": {
   "display_name": "base",
   "language": "python",
   "name": "python3"
  },
  "language_info": {
   "codemirror_mode": {
    "name": "ipython",
    "version": 3
   },
   "file_extension": ".py",
   "mimetype": "text/x-python",
   "name": "python",
   "nbconvert_exporter": "python",
   "pygments_lexer": "ipython3",
   "version": "3.10.9 (main, Mar  1 2023, 12:33:47) [Clang 14.0.6 ]"
  },
  "orig_nbformat": 4,
  "vscode": {
   "interpreter": {
    "hash": "dce5624d8581eee68c9a0506f748e676920f57d808eff4d97f13d2ff3251d1b5"
   }
  }
 },
 "nbformat": 4,
 "nbformat_minor": 2
}
