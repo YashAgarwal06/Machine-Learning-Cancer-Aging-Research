{
 "cells": [
  {
   "cell_type": "code",
   "execution_count": 48,
   "metadata": {},
   "outputs": [],
   "source": [
    "import numpy as np\n",
    "import pandas as pd\n",
    "import matplotlib.pyplot as plt\n",
    "from sklearn.linear_model import LinearRegression, Lasso, Ridge, ElasticNet\n",
    "from sklearn.neural_network import MLPRegressor\n",
    "from sklearn.model_selection import train_test_split\n",
    "import joblib\n",
    "from PIL import Image\n",
    "import json\n",
    "import csv\n",
    "from app import get_altum_age, get_hannum_age, get_horvath_age, get_pheno_age, get_grim_age, get_horvath_sb_age"
   ]
  },
  {
   "cell_type": "code",
   "execution_count": 8,
   "metadata": {},
   "outputs": [],
   "source": [
    "organs = ['Blood', 'Breast', 'Colon', 'Kidney', 'Lung', 'Muscle', 'Ovary', 'Prostate', 'Testis', 'Infant']\n",
    "with open('clocks/21K_cpgs.csv', 'r') as file:\n",
    "    reader = csv.reader(file)\n",
    "    for row in reader:\n",
    "        cpgs_21k = row\n",
    "\n",
    "with open('clocks/900_cpgs.csv', 'r') as file:\n",
    "    reader = csv.reader(file)\n",
    "    for row in reader:\n",
    "        cpgs_900 = row\n",
    "\n",
    "with open('clocks/470_cpgs.csv', 'r') as file:\n",
    "    reader = csv.reader(file)\n",
    "    for row in reader:\n",
    "        cpgs_470 = row"
   ]
  },
  {
   "cell_type": "code",
   "execution_count": 9,
   "metadata": {},
   "outputs": [],
   "source": [
    "gtex_train_X = pd.DataFrame(np.load('GTEX_trainX.npy'), columns=cpgs_21k)\n",
    "gtex_train_Y = np.load('GTEX_trainY.npy')\n",
    "with open('GTEX_test.json', 'r') as file:\n",
    "    gtex_test = json.load(file)\n",
    "    for key, val in gtex_test.items():\n",
    "        gtex_test[key] = (pd.DataFrame(np.array(val[0]), columns=cpgs_21k), np.array(val[1]))"
   ]
  },
  {
   "cell_type": "code",
   "execution_count": 10,
   "metadata": {},
   "outputs": [],
   "source": [
    "infant_data_missing_cpgs = ['cg02654291', 'cg02972551', 'cg04431054', 'cg05590257', 'cg06007645', 'cg06117855', 'cg07927379', 'cg09651136', 'cg09785172', 'cg09869858', 'cg11654620', 'cg13326338', 'cg13682722', 'cg14329157', 'cg14361627', 'cg15565533', 'cg15869022', 'cg16494477', 'cg17408647', 'cg18473521', 'cg19046959', 'cg19167673', 'cg19273182', 'cg19569684', 'cg19945840', 'cg21139312', 'cg21968169', 'cg22295573', 'cg22680204', 'cg23032316', 'cg24079702', 'cg24471894', 'cg24497877', 'cg24506130', 'cg27016307', 'cg27319898']\n",
    "df_ann = pd.read_csv('GSE224573_anno.tsv')\n",
    "df_meth = pd.read_csv('GSE224573_geo_sv_dnam_age_processed_matrix_v1_met.tsv')\n",
    "df_meth = df_meth.set_index(df_meth.columns[0])\n",
    "for cpg in infant_data_missing_cpgs:\n",
    "    df_meth.loc[cpg] = pd.Series(0.5, index=df_meth.columns)\n",
    "new_col = sorted(df_meth.columns)\n",
    "df_meth = df_meth.reindex(columns=new_col).loc[cpgs_21k].values.T\n",
    "df_ann = df_ann.reindex(columns=new_col).values.flatten()"
   ]
  },
  {
   "cell_type": "code",
   "execution_count": 11,
   "metadata": {},
   "outputs": [
    {
     "name": "stderr",
     "output_type": "stream",
     "text": [
      "C:\\Users\\aksha\\AppData\\Local\\Temp\\ipykernel_19692\\1698738854.py:2: FutureWarning: The frame.append method is deprecated and will be removed from pandas in a future version. Use pandas.concat instead.\n",
      "  gtex_train_X = gtex_train_X.append(pd.DataFrame(infant_training_X, columns=gtex_train_X.columns), ignore_index=True)\n"
     ]
    }
   ],
   "source": [
    "infant_training_X, infant_testing_X, infant_training_Y, infant_testing_Y = train_test_split(df_meth, df_ann, test_size=0.2, random_state=42)\n",
    "gtex_train_X = gtex_train_X.append(pd.DataFrame(infant_training_X, columns=gtex_train_X.columns), ignore_index=True)\n",
    "# gtex_train_Y = gtex_train_Y.append(pd.DataFrame(infant_training_Y, columns=gtex_train_Y.columns), ignore_index=True)\n",
    "gtex_train_Y = np.concatenate((gtex_train_Y, infant_training_Y), axis=0)\n",
    "gtex_test['Infant'] = (pd.DataFrame(infant_testing_X, columns=gtex_test['Blood'][0].columns),infant_testing_Y)\n"
   ]
  },
  {
   "cell_type": "code",
   "execution_count": 12,
   "metadata": {},
   "outputs": [
    {
     "ename": "KeyboardInterrupt",
     "evalue": "",
     "output_type": "error",
     "traceback": [
      "\u001b[1;31m---------------------------------------------------------------------------\u001b[0m",
      "\u001b[1;31mKeyError\u001b[0m                                  Traceback (most recent call last)",
      "File \u001b[1;32m~\\AppData\\Local\\Packages\\PythonSoftwareFoundation.Python.3.10_qbz5n2kfra8p0\\LocalCache\\local-packages\\Python310\\site-packages\\pandas\\core\\indexes\\base.py:3802\u001b[0m, in \u001b[0;36mIndex.get_loc\u001b[1;34m(self, key, method, tolerance)\u001b[0m\n\u001b[0;32m   3801\u001b[0m \u001b[38;5;28;01mtry\u001b[39;00m:\n\u001b[1;32m-> 3802\u001b[0m     \u001b[38;5;28;01mreturn\u001b[39;00m \u001b[38;5;28;43mself\u001b[39;49m\u001b[38;5;241;43m.\u001b[39;49m\u001b[43m_engine\u001b[49m\u001b[38;5;241;43m.\u001b[39;49m\u001b[43mget_loc\u001b[49m\u001b[43m(\u001b[49m\u001b[43mcasted_key\u001b[49m\u001b[43m)\u001b[49m\n\u001b[0;32m   3803\u001b[0m \u001b[38;5;28;01mexcept\u001b[39;00m \u001b[38;5;167;01mKeyError\u001b[39;00m \u001b[38;5;28;01mas\u001b[39;00m err:\n",
      "File \u001b[1;32m~\\AppData\\Local\\Packages\\PythonSoftwareFoundation.Python.3.10_qbz5n2kfra8p0\\LocalCache\\local-packages\\Python310\\site-packages\\pandas\\_libs\\index.pyx:138\u001b[0m, in \u001b[0;36mpandas._libs.index.IndexEngine.get_loc\u001b[1;34m()\u001b[0m\n",
      "File \u001b[1;32m~\\AppData\\Local\\Packages\\PythonSoftwareFoundation.Python.3.10_qbz5n2kfra8p0\\LocalCache\\local-packages\\Python310\\site-packages\\pandas\\_libs\\index.pyx:165\u001b[0m, in \u001b[0;36mpandas._libs.index.IndexEngine.get_loc\u001b[1;34m()\u001b[0m\n",
      "File \u001b[1;32mpandas\\_libs\\hashtable_class_helper.pxi:5745\u001b[0m, in \u001b[0;36mpandas._libs.hashtable.PyObjectHashTable.get_item\u001b[1;34m()\u001b[0m\n",
      "File \u001b[1;32mpandas\\_libs\\hashtable_class_helper.pxi:5753\u001b[0m, in \u001b[0;36mpandas._libs.hashtable.PyObjectHashTable.get_item\u001b[1;34m()\u001b[0m\n",
      "\u001b[1;31mKeyError\u001b[0m: 'cg01419679'",
      "\nDuring handling of the above exception, another exception occurred:\n",
      "\u001b[1;31mKeyboardInterrupt\u001b[0m                         Traceback (most recent call last)",
      "Cell \u001b[1;32mIn[12], line 9\u001b[0m\n\u001b[0;32m      7\u001b[0m stem_missing_cpgs \u001b[38;5;241m=\u001b[39m [elem \u001b[38;5;28;01mfor\u001b[39;00m elem \u001b[38;5;129;01min\u001b[39;00m cpgs_21k \u001b[38;5;28;01mif\u001b[39;00m elem \u001b[38;5;129;01mnot\u001b[39;00m \u001b[38;5;129;01min\u001b[39;00m df_meth\u001b[38;5;241m.\u001b[39mindex]\n\u001b[0;32m      8\u001b[0m \u001b[38;5;28;01mfor\u001b[39;00m cpg \u001b[38;5;129;01min\u001b[39;00m stem_missing_cpgs:\n\u001b[1;32m----> 9\u001b[0m     \u001b[43mdf_meth\u001b[49m\u001b[38;5;241;43m.\u001b[39;49m\u001b[43mloc\u001b[49m\u001b[43m[\u001b[49m\u001b[43mcpg\u001b[49m\u001b[43m]\u001b[49m \u001b[38;5;241m=\u001b[39m pd\u001b[38;5;241m.\u001b[39mSeries(\u001b[38;5;241m0.5\u001b[39m, index\u001b[38;5;241m=\u001b[39mdf_meth\u001b[38;5;241m.\u001b[39mcolumns)\n\u001b[0;32m     11\u001b[0m stem_ages \u001b[38;5;241m=\u001b[39m []\n\u001b[0;32m     12\u001b[0m \u001b[38;5;28;01mfor\u001b[39;00m col \u001b[38;5;129;01min\u001b[39;00m df_cop\u001b[38;5;241m.\u001b[39mcolumns:\n",
      "File \u001b[1;32m~\\AppData\\Local\\Packages\\PythonSoftwareFoundation.Python.3.10_qbz5n2kfra8p0\\LocalCache\\local-packages\\Python310\\site-packages\\pandas\\core\\indexing.py:814\u001b[0m, in \u001b[0;36m_LocationIndexer.__setitem__\u001b[1;34m(self, key, value)\u001b[0m\n\u001b[0;32m    812\u001b[0m \u001b[38;5;28;01melse\u001b[39;00m:\n\u001b[0;32m    813\u001b[0m     key \u001b[38;5;241m=\u001b[39m com\u001b[38;5;241m.\u001b[39mapply_if_callable(key, \u001b[38;5;28mself\u001b[39m\u001b[38;5;241m.\u001b[39mobj)\n\u001b[1;32m--> 814\u001b[0m indexer \u001b[38;5;241m=\u001b[39m \u001b[38;5;28;43mself\u001b[39;49m\u001b[38;5;241;43m.\u001b[39;49m\u001b[43m_get_setitem_indexer\u001b[49m\u001b[43m(\u001b[49m\u001b[43mkey\u001b[49m\u001b[43m)\u001b[49m\n\u001b[0;32m    815\u001b[0m \u001b[38;5;28mself\u001b[39m\u001b[38;5;241m.\u001b[39m_has_valid_setitem_indexer(key)\n\u001b[0;32m    817\u001b[0m iloc \u001b[38;5;241m=\u001b[39m \u001b[38;5;28mself\u001b[39m \u001b[38;5;28;01mif\u001b[39;00m \u001b[38;5;28mself\u001b[39m\u001b[38;5;241m.\u001b[39mname \u001b[38;5;241m==\u001b[39m \u001b[38;5;124m\"\u001b[39m\u001b[38;5;124miloc\u001b[39m\u001b[38;5;124m\"\u001b[39m \u001b[38;5;28;01melse\u001b[39;00m \u001b[38;5;28mself\u001b[39m\u001b[38;5;241m.\u001b[39mobj\u001b[38;5;241m.\u001b[39miloc\n",
      "File \u001b[1;32m~\\AppData\\Local\\Packages\\PythonSoftwareFoundation.Python.3.10_qbz5n2kfra8p0\\LocalCache\\local-packages\\Python310\\site-packages\\pandas\\core\\indexing.py:703\u001b[0m, in \u001b[0;36m_LocationIndexer._get_setitem_indexer\u001b[1;34m(self, key)\u001b[0m\n\u001b[0;32m    699\u001b[0m \u001b[38;5;28;01mif\u001b[39;00m \u001b[38;5;28misinstance\u001b[39m(key, \u001b[38;5;28mrange\u001b[39m):\n\u001b[0;32m    700\u001b[0m     \u001b[38;5;66;03m# GH#45479 test_loc_setitem_range_key\u001b[39;00m\n\u001b[0;32m    701\u001b[0m     key \u001b[38;5;241m=\u001b[39m \u001b[38;5;28mlist\u001b[39m(key)\n\u001b[1;32m--> 703\u001b[0m \u001b[38;5;28;01mreturn\u001b[39;00m \u001b[38;5;28;43mself\u001b[39;49m\u001b[38;5;241;43m.\u001b[39;49m\u001b[43m_convert_to_indexer\u001b[49m\u001b[43m(\u001b[49m\u001b[43mkey\u001b[49m\u001b[43m,\u001b[49m\u001b[43m \u001b[49m\u001b[43maxis\u001b[49m\u001b[38;5;241;43m=\u001b[39;49m\u001b[38;5;241;43m0\u001b[39;49m\u001b[43m)\u001b[49m\n",
      "File \u001b[1;32m~\\AppData\\Local\\Packages\\PythonSoftwareFoundation.Python.3.10_qbz5n2kfra8p0\\LocalCache\\local-packages\\Python310\\site-packages\\pandas\\core\\indexing.py:1366\u001b[0m, in \u001b[0;36m_LocIndexer._convert_to_indexer\u001b[1;34m(self, key, axis)\u001b[0m\n\u001b[0;32m   1361\u001b[0m \u001b[38;5;28;01mif\u001b[39;00m is_scalar(key) \u001b[38;5;129;01mor\u001b[39;00m (\u001b[38;5;28misinstance\u001b[39m(labels, MultiIndex) \u001b[38;5;129;01mand\u001b[39;00m is_hashable(key)):\n\u001b[0;32m   1362\u001b[0m     \u001b[38;5;66;03m# Otherwise get_loc will raise InvalidIndexError\u001b[39;00m\n\u001b[0;32m   1363\u001b[0m \n\u001b[0;32m   1364\u001b[0m     \u001b[38;5;66;03m# if we are a label return me\u001b[39;00m\n\u001b[0;32m   1365\u001b[0m     \u001b[38;5;28;01mtry\u001b[39;00m:\n\u001b[1;32m-> 1366\u001b[0m         \u001b[38;5;28;01mreturn\u001b[39;00m \u001b[43mlabels\u001b[49m\u001b[38;5;241;43m.\u001b[39;49m\u001b[43mget_loc\u001b[49m\u001b[43m(\u001b[49m\u001b[43mkey\u001b[49m\u001b[43m)\u001b[49m\n\u001b[0;32m   1367\u001b[0m     \u001b[38;5;28;01mexcept\u001b[39;00m \u001b[38;5;167;01mLookupError\u001b[39;00m:\n\u001b[0;32m   1368\u001b[0m         \u001b[38;5;28;01mif\u001b[39;00m \u001b[38;5;28misinstance\u001b[39m(key, \u001b[38;5;28mtuple\u001b[39m) \u001b[38;5;129;01mand\u001b[39;00m \u001b[38;5;28misinstance\u001b[39m(labels, MultiIndex):\n",
      "File \u001b[1;32m~\\AppData\\Local\\Packages\\PythonSoftwareFoundation.Python.3.10_qbz5n2kfra8p0\\LocalCache\\local-packages\\Python310\\site-packages\\pandas\\core\\indexes\\base.py:3804\u001b[0m, in \u001b[0;36mIndex.get_loc\u001b[1;34m(self, key, method, tolerance)\u001b[0m\n\u001b[0;32m   3802\u001b[0m     \u001b[38;5;28;01mreturn\u001b[39;00m \u001b[38;5;28mself\u001b[39m\u001b[38;5;241m.\u001b[39m_engine\u001b[38;5;241m.\u001b[39mget_loc(casted_key)\n\u001b[0;32m   3803\u001b[0m \u001b[38;5;28;01mexcept\u001b[39;00m \u001b[38;5;167;01mKeyError\u001b[39;00m \u001b[38;5;28;01mas\u001b[39;00m err:\n\u001b[1;32m-> 3804\u001b[0m     \u001b[38;5;28;01mraise\u001b[39;00m \u001b[38;5;167;43;01mKeyError\u001b[39;49;00m\u001b[43m(\u001b[49m\u001b[43mkey\u001b[49m\u001b[43m)\u001b[49m \u001b[38;5;28;01mfrom\u001b[39;00m \u001b[38;5;21;01merr\u001b[39;00m\n\u001b[0;32m   3805\u001b[0m \u001b[38;5;28;01mexcept\u001b[39;00m \u001b[38;5;167;01mTypeError\u001b[39;00m:\n\u001b[0;32m   3806\u001b[0m     \u001b[38;5;66;03m# If we have a listlike key, _check_indexing_error will raise\u001b[39;00m\n\u001b[0;32m   3807\u001b[0m     \u001b[38;5;66;03m#  InvalidIndexError. Otherwise we fall through and re-raise\u001b[39;00m\n\u001b[0;32m   3808\u001b[0m     \u001b[38;5;66;03m#  the TypeError.\u001b[39;00m\n\u001b[0;32m   3809\u001b[0m     \u001b[38;5;28mself\u001b[39m\u001b[38;5;241m.\u001b[39m_check_indexing_error(key)\n",
      "\u001b[1;31mKeyboardInterrupt\u001b[0m: "
     ]
    }
   ],
   "source": [
    "# import pandas as pd\n",
    "\n",
    "# df_meth = pd.read_csv('GSE220023_met.tsv', delimiter='\\t')\n",
    "# df_meth = df_meth.set_index(df_meth.columns[0])\n",
    "# df_cop = df_meth.copy()\n",
    "\n",
    "# stem_missing_cpgs = [elem for elem in cpgs_21k if elem not in df_meth.index]\n",
    "# for cpg in stem_missing_cpgs:\n",
    "#     df_meth.loc[cpg] = pd.Series(0.5, index=df_meth.columns)\n",
    "\n",
    "# stem_ages = []\n",
    "# for col in df_cop.columns:\n",
    "#     age = int(col.split('-')[2][1:])\n",
    "#     stem_ages.append(age)\n",
    "# df_ann = np.array(stem_ages)"
   ]
  },
  {
   "cell_type": "code",
   "execution_count": 7,
   "metadata": {},
   "outputs": [
    {
     "ename": "ValueError",
     "evalue": "Found input variables with inconsistent numbers of samples: [618605, 15]",
     "output_type": "error",
     "traceback": [
      "\u001b[1;31m---------------------------------------------------------------------------\u001b[0m",
      "\u001b[1;31mValueError\u001b[0m                                Traceback (most recent call last)",
      "Cell \u001b[1;32mIn[7], line 1\u001b[0m\n\u001b[1;32m----> 1\u001b[0m stem_training_X, stem_testing_X, stem_training_Y, stem_testing_Y \u001b[38;5;241m=\u001b[39m \u001b[43mtrain_test_split\u001b[49m\u001b[43m(\u001b[49m\u001b[43mdf_meth\u001b[49m\u001b[43m,\u001b[49m\u001b[43m \u001b[49m\u001b[43mdf_ann\u001b[49m\u001b[43m,\u001b[49m\u001b[43m \u001b[49m\u001b[43mtest_size\u001b[49m\u001b[38;5;241;43m=\u001b[39;49m\u001b[38;5;241;43m0.2\u001b[39;49m\u001b[43m,\u001b[49m\u001b[43m \u001b[49m\u001b[43mrandom_state\u001b[49m\u001b[38;5;241;43m=\u001b[39;49m\u001b[38;5;241;43m42\u001b[39;49m\u001b[43m)\u001b[49m\n\u001b[0;32m      2\u001b[0m gtex_train_X \u001b[38;5;241m=\u001b[39m gtex_train_X\u001b[38;5;241m.\u001b[39mappend(pd\u001b[38;5;241m.\u001b[39mDataFrame(stem_training_X, columns\u001b[38;5;241m=\u001b[39mgtex_train_X\u001b[38;5;241m.\u001b[39mcolumns), ignore_index\u001b[38;5;241m=\u001b[39m\u001b[38;5;28;01mTrue\u001b[39;00m)\n\u001b[0;32m      3\u001b[0m gtex_train_Y \u001b[38;5;241m=\u001b[39m np\u001b[38;5;241m.\u001b[39mconcatenate((gtex_train_Y, stem_training_Y), axis\u001b[38;5;241m=\u001b[39m\u001b[38;5;241m0\u001b[39m)\n",
      "File \u001b[1;32m~\\AppData\\Local\\Packages\\PythonSoftwareFoundation.Python.3.10_qbz5n2kfra8p0\\LocalCache\\local-packages\\Python310\\site-packages\\sklearn\\model_selection\\_split.py:2172\u001b[0m, in \u001b[0;36mtrain_test_split\u001b[1;34m(test_size, train_size, random_state, shuffle, stratify, *arrays)\u001b[0m\n\u001b[0;32m   2169\u001b[0m \u001b[38;5;28;01mif\u001b[39;00m n_arrays \u001b[38;5;241m==\u001b[39m \u001b[38;5;241m0\u001b[39m:\n\u001b[0;32m   2170\u001b[0m     \u001b[38;5;28;01mraise\u001b[39;00m \u001b[38;5;167;01mValueError\u001b[39;00m(\u001b[38;5;124m\"\u001b[39m\u001b[38;5;124mAt least one array required as input\u001b[39m\u001b[38;5;124m\"\u001b[39m)\n\u001b[1;32m-> 2172\u001b[0m arrays \u001b[38;5;241m=\u001b[39m \u001b[43mindexable\u001b[49m\u001b[43m(\u001b[49m\u001b[38;5;241;43m*\u001b[39;49m\u001b[43marrays\u001b[49m\u001b[43m)\u001b[49m\n\u001b[0;32m   2174\u001b[0m n_samples \u001b[38;5;241m=\u001b[39m _num_samples(arrays[\u001b[38;5;241m0\u001b[39m])\n\u001b[0;32m   2175\u001b[0m n_train, n_test \u001b[38;5;241m=\u001b[39m _validate_shuffle_split(n_samples, test_size, train_size,\n\u001b[0;32m   2176\u001b[0m                                           default_test_size\u001b[38;5;241m=\u001b[39m\u001b[38;5;241m0.25\u001b[39m)\n",
      "File \u001b[1;32m~\\AppData\\Local\\Packages\\PythonSoftwareFoundation.Python.3.10_qbz5n2kfra8p0\\LocalCache\\local-packages\\Python310\\site-packages\\sklearn\\utils\\validation.py:356\u001b[0m, in \u001b[0;36mindexable\u001b[1;34m(*iterables)\u001b[0m\n\u001b[0;32m    344\u001b[0m \u001b[38;5;250m\u001b[39m\u001b[38;5;124;03m\"\"\"Make arrays indexable for cross-validation.\u001b[39;00m\n\u001b[0;32m    345\u001b[0m \n\u001b[0;32m    346\u001b[0m \u001b[38;5;124;03mChecks consistent length, passes through None, and ensures that everything\u001b[39;00m\n\u001b[1;32m   (...)\u001b[0m\n\u001b[0;32m    353\u001b[0m \u001b[38;5;124;03m    List of objects to ensure sliceability.\u001b[39;00m\n\u001b[0;32m    354\u001b[0m \u001b[38;5;124;03m\"\"\"\u001b[39;00m\n\u001b[0;32m    355\u001b[0m result \u001b[38;5;241m=\u001b[39m [_make_indexable(X) \u001b[38;5;28;01mfor\u001b[39;00m X \u001b[38;5;129;01min\u001b[39;00m iterables]\n\u001b[1;32m--> 356\u001b[0m \u001b[43mcheck_consistent_length\u001b[49m\u001b[43m(\u001b[49m\u001b[38;5;241;43m*\u001b[39;49m\u001b[43mresult\u001b[49m\u001b[43m)\u001b[49m\n\u001b[0;32m    357\u001b[0m \u001b[38;5;28;01mreturn\u001b[39;00m result\n",
      "File \u001b[1;32m~\\AppData\\Local\\Packages\\PythonSoftwareFoundation.Python.3.10_qbz5n2kfra8p0\\LocalCache\\local-packages\\Python310\\site-packages\\sklearn\\utils\\validation.py:319\u001b[0m, in \u001b[0;36mcheck_consistent_length\u001b[1;34m(*arrays)\u001b[0m\n\u001b[0;32m    317\u001b[0m uniques \u001b[38;5;241m=\u001b[39m np\u001b[38;5;241m.\u001b[39munique(lengths)\n\u001b[0;32m    318\u001b[0m \u001b[38;5;28;01mif\u001b[39;00m \u001b[38;5;28mlen\u001b[39m(uniques) \u001b[38;5;241m>\u001b[39m \u001b[38;5;241m1\u001b[39m:\n\u001b[1;32m--> 319\u001b[0m     \u001b[38;5;28;01mraise\u001b[39;00m \u001b[38;5;167;01mValueError\u001b[39;00m(\u001b[38;5;124m\"\u001b[39m\u001b[38;5;124mFound input variables with inconsistent numbers of\u001b[39m\u001b[38;5;124m\"\u001b[39m\n\u001b[0;32m    320\u001b[0m                      \u001b[38;5;124m\"\u001b[39m\u001b[38;5;124m samples: \u001b[39m\u001b[38;5;132;01m%r\u001b[39;00m\u001b[38;5;124m\"\u001b[39m \u001b[38;5;241m%\u001b[39m [\u001b[38;5;28mint\u001b[39m(l) \u001b[38;5;28;01mfor\u001b[39;00m l \u001b[38;5;129;01min\u001b[39;00m lengths])\n",
      "\u001b[1;31mValueError\u001b[0m: Found input variables with inconsistent numbers of samples: [618605, 15]"
     ]
    }
   ],
   "source": [
    "# stem_training_X, stem_testing_X, stem_training_Y, stem_testing_Y = train_test_split(df_meth, df_ann, test_size=0.2, random_state=42)\n",
    "# gtex_train_X = gtex_train_X.append(pd.DataFrame(stem_training_X, columns=gtex_train_X.columns), ignore_index=True)\n",
    "# gtex_train_Y = np.concatenate((gtex_train_Y, stem_training_Y), axis=0)\n",
    "# gtex_test['Stem'] = (pd.DataFrame(stem_testing_X, columns=gtex_test['Blood'][0].columns),stem_testing_Y)\n"
   ]
  },
  {
   "cell_type": "code",
   "execution_count": 13,
   "metadata": {},
   "outputs": [
    {
     "name": "stdout",
     "output_type": "stream",
     "text": [
      "(918, 21618)\n",
      "(918,)\n",
      "(11, 21618)\n",
      "(11,)\n",
      "(33, 21618)\n",
      "(33,)\n"
     ]
    },
    {
     "ename": "KeyError",
     "evalue": "'Stem'",
     "output_type": "error",
     "traceback": [
      "\u001b[1;31m---------------------------------------------------------------------------\u001b[0m",
      "\u001b[1;31mKeyError\u001b[0m                                  Traceback (most recent call last)",
      "Cell \u001b[1;32mIn[13], line 7\u001b[0m\n\u001b[0;32m      5\u001b[0m \u001b[38;5;28mprint\u001b[39m(gtex_test[\u001b[38;5;124m'\u001b[39m\u001b[38;5;124mInfant\u001b[39m\u001b[38;5;124m'\u001b[39m][\u001b[38;5;241m0\u001b[39m]\u001b[38;5;241m.\u001b[39mshape)\n\u001b[0;32m      6\u001b[0m \u001b[38;5;28mprint\u001b[39m(gtex_test[\u001b[38;5;124m'\u001b[39m\u001b[38;5;124mInfant\u001b[39m\u001b[38;5;124m'\u001b[39m][\u001b[38;5;241m1\u001b[39m]\u001b[38;5;241m.\u001b[39mshape)\n\u001b[1;32m----> 7\u001b[0m \u001b[38;5;28mprint\u001b[39m(\u001b[43mgtex_test\u001b[49m\u001b[43m[\u001b[49m\u001b[38;5;124;43m'\u001b[39;49m\u001b[38;5;124;43mStem\u001b[39;49m\u001b[38;5;124;43m'\u001b[39;49m\u001b[43m]\u001b[49m[\u001b[38;5;241m0\u001b[39m]\u001b[38;5;241m.\u001b[39mshape)\n\u001b[0;32m      8\u001b[0m \u001b[38;5;28mprint\u001b[39m(gtex_test[\u001b[38;5;124m'\u001b[39m\u001b[38;5;124mStem\u001b[39m\u001b[38;5;124m'\u001b[39m][\u001b[38;5;241m1\u001b[39m]\u001b[38;5;241m.\u001b[39mshape)\n",
      "\u001b[1;31mKeyError\u001b[0m: 'Stem'"
     ]
    }
   ],
   "source": [
    "print(gtex_train_X.shape)\n",
    "print(gtex_train_Y.shape)\n",
    "print(gtex_test['Blood'][0].shape)\n",
    "print(gtex_test['Blood'][1].shape)\n",
    "print(gtex_test['Infant'][0].shape)\n",
    "print(gtex_test['Infant'][1].shape)\n",
    "print(gtex_test['Stem'][0].shape)\n",
    "print(gtex_test['Stem'][1].shape)"
   ]
  },
  {
   "cell_type": "code",
   "execution_count": 100,
   "metadata": {},
   "outputs": [],
   "source": [
    "def show_results(model, test_sets, model_name):\n",
    "    all_x = None\n",
    "    all_y = None\n",
    "    for i in range(len(organs)):\n",
    "        if i == 0:\n",
    "            all_x = test_sets[organs[i]][0]\n",
    "            all_y = test_sets[organs[i]][1]\n",
    "        else:\n",
    "            all_x = np.concatenate((all_x, test_sets[organs[i]][0]), axis=0)\n",
    "            all_y = np.concatenate((all_y, test_sets[organs[i]][1]))\n",
    "        pred = model.predict(test_sets[organs[i]][0])\n",
    "        mae = np.median(np.abs(pred - test_sets[organs[i]][1]))\n",
    "        age_accel = np.mean((pred - test_sets[organs[i]][1]))\n",
    "        plt.plot(test_sets[organs[i]][1], pred, 'o', color='black', mfc='none', markersize=20, markeredgewidth=5)\n",
    "        lin_reg = LinearRegression(fit_intercept=True).fit(test_sets[organs[i]][1].reshape(-1, 1), pred)\n",
    "        plt.plot(np.arange(0,100), (np.arange(0,100) * lin_reg.coef_[0]) + lin_reg.intercept_, color='red', label='slope = ' + str(round(lin_reg.coef_[0], 2)), linewidth=10)\n",
    "        plt.plot(np.arange(0,100), np.arange(0,100), color='blue', label='y=x', linewidth=5)\n",
    "        plt.title(model_name + ' on ' + organs[i] + ' (N = ' + str(len(test_sets[organs[i]][1])) + ', MAE = ' + str(round(mae,2)) + ', AA = ' + str(round(age_accel,2)) + ')')\n",
    "        if i != len(organs) - 1:\n",
    "            plt.xlim(0,100)\n",
    "            plt.ylim(0,100)\n",
    "        else:\n",
    "            plt.xlim(0,10)\n",
    "            plt.ylim(-15,15)\n",
    "        plt.tick_params(axis='both', which='major', labelsize=10)\n",
    "        plt.tick_params(axis='both', which='major', length=20, width=10)\n",
    "        plt.gca().spines['left'].set_linewidth(10) \n",
    "        plt.gca().spines['bottom'].set_linewidth(10) \n",
    "        plt.gca().spines['top'].set_linewidth(10) \n",
    "        plt.gca().spines['right'].set_linewidth(10) \n",
    "        plt.legend(fontsize=10, loc='upper left')\n",
    "        #plt.xlabel(\"Chronological Age\", fontsize=10)\n",
    "        #plt.ylabel(\"Predicted Age\", fontsize=10)\n",
    "        plt.savefig('plots_dir/' + str(i) + '.png')\n",
    "        plt.clf()\n",
    "\n",
    "    print(all_x.shape)\n",
    "    print(all_y.shape)\n",
    "    pred = model.predict(all_x)\n",
    "    mae = np.median(np.abs(pred - all_y))\n",
    "    age_accel = np.mean((pred - all_y))\n",
    "    plt.plot(all_y, pred, 'o', color='black', mfc='none', markersize=20, markeredgewidth=5)\n",
    "    lin_reg = LinearRegression(fit_intercept=True).fit(all_y.reshape(-1, 1), pred)\n",
    "    plt.plot(np.arange(0,100), (np.arange(0,100) * lin_reg.coef_[0]) + lin_reg.intercept_, color='red', label='slope = ' + str(round(lin_reg.coef_[0], 2)), linewidth=10)\n",
    "    plt.plot(np.arange(0,100), np.arange(0,100), color='blue', label='y=x', linewidth=5)\n",
    "    plt.title(model_name + ' on All Data (N = ' + str(len(all_y)) + ', MAE = ' + str(round(mae,2)) + ', AA = ' + str(round(age_accel,2)) + ')')\n",
    "    plt.xlim(0,100)\n",
    "    plt.ylim(-15,100)\n",
    "    plt.tick_params(axis='both', which='major', labelsize=10)\n",
    "    plt.tick_params(axis='both', which='major', length=20, width=10)\n",
    "    plt.gca().spines['left'].set_linewidth(10) \n",
    "    plt.gca().spines['bottom'].set_linewidth(10) \n",
    "    plt.gca().spines['top'].set_linewidth(10) \n",
    "    plt.gca().spines['right'].set_linewidth(10) \n",
    "    plt.legend(fontsize=10, loc='upper left')\n",
    "    #plt.xlabel(\"Chronological Age\", fontsize=10)\n",
    "    #plt.ylabel(\"Predicted Age\", fontsize=10)\n",
    "    plt.savefig('plots_dir/10.png')\n",
    "    plt.clf()\n",
    "\n",
    "\n",
    "\n",
    "    images_row = []\n",
    "    all_rows = []\n",
    "    total_width = 0\n",
    "    max_height = 0\n",
    "\n",
    "    for i in range(len(organs) + 1):\n",
    "        image_path = 'plots_dir/' + str(i) + '.png'\n",
    "        img = Image.open(image_path)\n",
    "        images_row.append(img)\n",
    "        \n",
    "        total_width = 1 * img.width\n",
    "        max_height = max(max_height, img.height)\n",
    "        \n",
    "        # Check if we have three images in the row\n",
    "        if len(images_row) == 1:\n",
    "            all_rows.append(images_row)\n",
    "            images_row = []\n",
    "    all_rows.append(images_row)\n",
    "    # Create a new blank image with the calculated size for the grid\n",
    "    concatenated_img = Image.new('RGB', (int(total_width), max_height * 10))\n",
    "    print(len(all_rows))\n",
    "    # Paste each row of images vertically\n",
    "    current_height = 0\n",
    "    for row in all_rows:\n",
    "        current_width = 0\n",
    "        for img in row:\n",
    "            concatenated_img.paste(img, (current_width, current_height))\n",
    "            current_width += img.width\n",
    "        current_height += max_height\n",
    "    concatenated_img.save('plots_dir/result.png')\n",
    "    return concatenated_img\n",
    "    #concatenated_img.show()\n",
    "\n"
   ]
  },
  {
   "cell_type": "code",
   "execution_count": 92,
   "metadata": {},
   "outputs": [],
   "source": [
    "def show_results_base(model, test_sets, model_name):\n",
    "    all_x = None\n",
    "    all_y = None\n",
    "    cpgs = pd.read_csv(\"tools/union_out.csv\")\n",
    "    for i in range(len(organs)):\n",
    "        if i == 0:\n",
    "            all_x = test_sets[organs[i]][0]\n",
    "            all_y = test_sets[organs[i]][1]\n",
    "        else:\n",
    "            all_x = np.concatenate((all_x, test_sets[organs[i]][0]), axis=0)\n",
    "            all_y = np.concatenate((all_y, test_sets[organs[i]][1]))\n",
    "        df_meth = pd.DataFrame(test_sets[organs[i]][0].T)\n",
    "        cpgs_list = cpgs.iloc[:, 0].tolist()\n",
    "        df_meth.insert(loc=0, column='New_Column', value=cpgs_21k)\n",
    "        missing_values = set(cpgs_list) - set(df_meth.iloc[:, 0])\n",
    "    \n",
    "        for value in missing_values:\n",
    "            new_row = [value] + [0.5] * (df_meth.shape[1] - 1)\n",
    "            df_meth.loc[len(df_meth)] = new_row\n",
    "    \n",
    "        pred = model(df_meth)\n",
    "        mae = np.median(np.abs(pred - test_sets[organs[i]][1]))\n",
    "        age_accel = np.mean((pred - test_sets[organs[i]][1]))\n",
    "        plt.plot(test_sets[organs[i]][1], pred, 'o', color='black', mfc='none', markersize=20, markeredgewidth=5)\n",
    "        lin_reg = LinearRegression(fit_intercept=True).fit(test_sets[organs[i]][1].reshape(-1, 1), pred)\n",
    "        plt.plot(np.arange(0,100), (np.arange(0,100) * lin_reg.coef_[0]) + lin_reg.intercept_, color='red', label='slope = ' + str(round(lin_reg.coef_[0], 2)), linewidth=10)\n",
    "        plt.plot(np.arange(0,100), np.arange(0,100), color='blue', label='y=x', linewidth=5)\n",
    "        plt.title(organs[i] + ' (N = ' + str(len(test_sets[organs[i]][1])) + ', MAE = ' + str(round(mae,2)) + ', AA = ' + str(round(age_accel,2)) + ')')\n",
    "        if i != len(organs) - 1:\n",
    "            plt.xlim(0,100)\n",
    "            plt.ylim(0,100)\n",
    "        else:\n",
    "            plt.xlim(0,10)\n",
    "            plt.ylim(-15,15)\n",
    "        plt.tick_params(axis='both', which='major', labelsize=10)\n",
    "        plt.tick_params(axis='both', which='major', length=20, width=10)\n",
    "        plt.gca().spines['left'].set_linewidth(10) \n",
    "        plt.gca().spines['bottom'].set_linewidth(10) \n",
    "        plt.gca().spines['top'].set_linewidth(10) \n",
    "        plt.gca().spines['right'].set_linewidth(10) \n",
    "        plt.legend(fontsize=10, loc='upper left')\n",
    "        plt.xlabel(\"Chronological Age\", fontsize=10)\n",
    "        plt.ylabel(\"Predicted Age\", fontsize=10)\n",
    "        plt.savefig('plots_dir/' + str(i) + '.png')\n",
    "        plt.clf()\n",
    "\n",
    "    print(all_x.shape)\n",
    "    print(all_y.shape)\n",
    "    df_meth = pd.DataFrame(all_x.T)\n",
    "    df_meth.insert(loc=0, column='New_Column', value=cpgs_21k)\n",
    "    missing_values = set(cpgs_list) - set(df_meth.iloc[:, 0])\n",
    "    \n",
    "    for value in missing_values:\n",
    "        new_row = [value] + [0.5] * (df_meth.shape[1] - 1)\n",
    "        df_meth.loc[len(df_meth)] = new_row\n",
    "    pred = model(df_meth)\n",
    "    mae = np.median(np.abs(pred - all_y))\n",
    "    age_accel = np.mean((pred - all_y))\n",
    "    plt.plot(all_y, pred, 'o', color='black', mfc='none', markersize=20, markeredgewidth=5)\n",
    "    lin_reg = LinearRegression(fit_intercept=True).fit(all_y.reshape(-1, 1), pred)\n",
    "    plt.plot(np.arange(0,100), (np.arange(0,100) * lin_reg.coef_[0]) + lin_reg.intercept_, color='red', label='slope = ' + str(round(lin_reg.coef_[0], 2)), linewidth=10)\n",
    "    plt.plot(np.arange(0,100), np.arange(0,100), color='blue', label='y=x', linewidth=5)\n",
    "    plt.title(model_name + ' on All Data (N = ' + str(len(all_y)) + ', MAE = ' + str(round(mae,2)) + ', AA = ' + str(round(age_accel,2)) + ')')\n",
    "    plt.xlim(0,100)\n",
    "    plt.ylim(-15,100)\n",
    "    plt.tick_params(axis='both', which='major', labelsize=10)\n",
    "    plt.tick_params(axis='both', which='major', length=20, width=10)\n",
    "    plt.gca().spines['left'].set_linewidth(10) \n",
    "    plt.gca().spines['bottom'].set_linewidth(10) \n",
    "    plt.gca().spines['top'].set_linewidth(10) \n",
    "    plt.gca().spines['right'].set_linewidth(10) \n",
    "    plt.legend(fontsize=10, loc='upper left')\n",
    "    #plt.xlabel(\"Chronological Age\", fontsize=10)\n",
    "    #plt.ylabel(\"Predicted Age\", fontsize=10)\n",
    "    plt.savefig('plots_dir/10.png')\n",
    "    plt.clf()\n",
    "\n",
    "\n",
    "\n",
    "    images_row = []\n",
    "    all_rows = []\n",
    "    total_width = 0\n",
    "    max_height = 0\n",
    "\n",
    "    for i in range(len(organs) + 1):\n",
    "        image_path = 'plots_dir/' + str(i) + '.png'\n",
    "        img = Image.open(image_path)\n",
    "        images_row.append(img)\n",
    "        \n",
    "        total_width = 1 * img.width\n",
    "        max_height = max(max_height, img.height)\n",
    "        \n",
    "        # Check if we have three images in the row\n",
    "        if len(images_row) == 1:\n",
    "            all_rows.append(images_row)\n",
    "            images_row = []\n",
    "    all_rows.append(images_row)\n",
    "    # Create a new blank image with the calculated size for the grid\n",
    "    concatenated_img = Image.new('RGB', (int(total_width), max_height * 10))\n",
    "    print(len(all_rows))\n",
    "    # Paste each row of images vertically\n",
    "    current_height = 0\n",
    "    for row in all_rows:\n",
    "        current_width = 0\n",
    "        for img in row:\n",
    "            concatenated_img.paste(img, (current_width, current_height))\n",
    "            current_width += img.width\n",
    "        current_height += max_height\n",
    "    concatenated_img.save('plots_dir/result.png')\n",
    "    #concatenated_img.show()"
   ]
  },
  {
   "cell_type": "code",
   "execution_count": 16,
   "metadata": {},
   "outputs": [],
   "source": [
    "def build_model(cpgs_used):\n",
    "    base = Ridge(alpha=0.05, fit_intercept=True)\n",
    "    chosen_x = gtex_train_X[cpgs_used].values\n",
    "    chosen_y = gtex_train_Y\n",
    "    trained = base.fit(chosen_x, chosen_y)\n",
    "    test_sets = {}\n",
    "    for key, val in gtex_test.items():\n",
    "        test_sets[key] = (val[0][cpgs_used].values, val[1])\n",
    "    return trained, test_sets\n",
    "\n",
    "def build_elasticnet(cpgs_used):\n",
    "    base = ElasticNet(alpha=0.05, l1_ratio=0.1, fit_intercept=True)\n",
    "    chosen_x = gtex_train_X[cpgs_used].values\n",
    "    chosen_y = gtex_train_Y\n",
    "    trained = base.fit(chosen_x, chosen_y)\n",
    "    test_sets = {}\n",
    "    for key, val in gtex_test.items():\n",
    "        test_sets[key] = (val[0][cpgs_used].values, val[1])\n",
    "    return trained, test_sets\n",
    "\n",
    "def build_nn(cpgs_used):\n",
    "    base = MLPRegressor(random_state=1, max_iter=500)\n",
    "    print(base)\n",
    "    chosen_x = gtex_train_X[cpgs_used].values\n",
    "    chosen_y = gtex_train_Y\n",
    "    trained = base.fit(chosen_x, chosen_y)\n",
    "    test_sets = {}\n",
    "    for key, val in gtex_test.items():\n",
    "        test_sets[key] = (val[0][cpgs_used].values, val[1])\n",
    "    return trained, test_sets"
   ]
  },
  {
   "cell_type": "code",
   "execution_count": 17,
   "metadata": {},
   "outputs": [],
   "source": [
    "with open('clocks/muscle_cpgs.txt', 'r') as file:\n",
    "    muscle_cpgs =  [line.strip() for line in file.readlines()]\n",
    "with open('clocks/ovary_cpgs.txt', 'r') as file:\n",
    "    ovary_cpgs = [line.strip() for line in file.readlines()]\n",
    "with open('clocks/testis_cpgs.txt', 'r') as file:\n",
    "    testis_cpgs = [line.strip() for line in file.readlines()]\n",
    "\n",
    "# muscle_cpgs = ['cg06639320', 'cg22454769', 'cg23500537', 'cg03641225', 'cg05190718', 'cg02228185', 'cg11251877', 'cg00107488']\n",
    "# ovary_cpgs = ['cg06648759', 'cg07589899', 'cg06144905', 'cg23500537', 'cg05575505', 'cg07339138', 'cg26215727', 'cg01975858']\n",
    "# testis_cpgs = ['cg22736354', 'cg25226247', 'cg08097417', 'cg16867657', 'cg24046474', 'cg05840553', 'cg14045283', 'cg04645049']\n",
    "nonzeroed_cpgs = ['cg04452713', 'cg03258472', 'cg04121983', 'cg25809905', 'cg08529529', 'cg21096399', 'cg09133026', 'cg02489552', 'cg17274064', 'cg00862290', 'cg22407458', 'cg23777956', 'cg02085507', 'cg18638931', 'cg06638451', 'cg27637521', 'cg03103192', 'cg22736354', 'cg21081971', 'cg16408970', 'cg23159337', 'cg06419846', 'cg12289045', 'cg01528542', 'cg16744741', 'cg24262469', 'cg13861644', 'cg06806711', 'cg00582628', 'cg03760483', 'cg07730301', 'cg10045881', 'cg27440834', 'cg23152772', 'cg03682823', 'cg19514469', 'cg22809047', 'cg12105450', 'cg08965235', 'cg21460081', 'cg26372517', 'cg12188560', 'cg06690548', 'cg15489301', 'cg16372520', 'cg13038560', 'cg07770222', 'cg11233384', 'cg16466334', 'cg20747455', 'cg26921969', 'cg08668790', 'cg21993406', 'cg22454769', 'cg13119609', 'cg18055007', 'cg14556683', 'cg18328933', 'cg10523019', 'cg06952310', 'cg04999691', 'cg22947000', 'cg07484827', 'cg16648841', 'cg06327515', 'cg16034652', 'cg10591174', 'cg06144905', 'cg17063929', 'cg25536676', 'cg06639320', 'cg20052760', 'cg13302154', 'cg10501210', 'cg03991512', 'cg09809672', 'cg21120249', 'cg15974053', 'cg15551881', 'cg12864235', 'cg10636246', 'cg25478614', 'cg00079056', 'cg13587552', 'cg25564800', 'cg00687674', 'cg01262913', 'cg03565081', 'cg10917602', 'cg14754581', 'cg21296230', 'cg23500537', 'cg05294243', 'cg22282672', 'cg01211097', 'cg00343092', 'cg22971191', 'cg22484793', 'cg20692569', 'cg19731122', 'cg22991148', 'cg26096837', 'cg06836772', 'cg16867657', 'cg13718960', 'cg19859270', 'cg22171829', 'cg14972143', 'cg08097417', 'cg07337598', 'cg21992250', 'cg00431549', 'cg25101936', 'cg04087608', 'cg18001427', 'cg08832227', 'cg18881501', 'cg25410668', 'cg09118625', 'cg12830694', 'cg23278885', 'cg19305227', 'cg26312920', 'cg27009703', 'cg21907579', 'cg24429836', 'cg11903057', 'cg07455279', 'cg22512531', 'cg20891917', 'cg20654468', 'cg26201213', 'cg00744433', 'cg02388150', 'cg11314684', 'cg21835643', 'cg23124451', 'cg07388493', 'cg23606718', 'cg14009688', 'cg04818845', 'cg00297600', 'cg12177001', 'cg22679120', 'cg20761322']\n",
    "#From 900 L1 model"
   ]
  },
  {
   "cell_type": "code",
   "execution_count": 18,
   "metadata": {},
   "outputs": [
    {
     "name": "stdout",
     "output_type": "stream",
     "text": [
      "16\n",
      "10\n",
      "14\n"
     ]
    }
   ],
   "source": [
    "print(len(set(muscle_cpgs) & set(nonzeroed_cpgs)))\n",
    "print(len(set(ovary_cpgs) & set(nonzeroed_cpgs)))\n",
    "print(len(set(testis_cpgs) & set(nonzeroed_cpgs)))\n",
    "#Adding testis CpGs doesnt really change the testis performance\n",
    "#Adding more ovary cPgs brings down muscle performance"
   ]
  },
  {
   "cell_type": "code",
   "execution_count": 102,
   "metadata": {},
   "outputs": [
    {
     "name": "stdout",
     "output_type": "stream",
     "text": [
      "(233, 158)\n",
      "(233,)\n",
      "12\n",
      "(233, 1060)\n",
      "(233,)\n",
      "12\n"
     ]
    },
    {
     "data": {
      "text/plain": [
       "<Figure size 640x480 with 0 Axes>"
      ]
     },
     "metadata": {},
     "output_type": "display_data"
    }
   ],
   "source": [
    "\n",
    "model_inputs = list(set(nonzeroed_cpgs + muscle_cpgs[10:20] + ovary_cpgs[15:20]))\n",
    "model, test_set = build_model(model_inputs)\n",
    "image1 = show_results(model, test_set, 'EPICLight')\n",
    "\n",
    "model_inputs = list(set(cpgs_900 + muscle_cpgs[0:100] + ovary_cpgs[0:100]))\n",
    "model, test_set = build_model(model_inputs)\n",
    "image2 = show_results(model, test_set, 'EPICHeavy')\n",
    "\n",
    "# Ensure both images have the same height\n",
    "min_height = min(image1.height, image2.height)\n",
    "image1 = image1.crop((0, 0, image1.width, min_height))\n",
    "image2 = image2.crop((0, 0, image2.width, min_height))\n",
    "\n",
    "# Concatenate horizontally\n",
    "concatenated_image = Image.new(\"RGB\", (image1.width + image2.width, min_height))\n",
    "concatenated_image.paste(image1, (0, 0))\n",
    "concatenated_image.paste(image2, (image1.width, 0))\n",
    "\n",
    "# Display or save the concatenated image\n",
    "concatenated_image.show()"
   ]
  },
  {
   "cell_type": "code",
   "execution_count": null,
   "metadata": {},
   "outputs": [],
   "source": []
  },
  {
   "cell_type": "code",
   "execution_count": 70,
   "metadata": {},
   "outputs": [],
   "source": [
    "df_ann = pd.read_csv('GSE224573_anno.tsv')\n",
    "df_meth = pd.read_csv('GSE224573_geo_sv_dnam_age_processed_matrix_v1_met.tsv')\n",
    "df_meth = df_meth.set_index(df_meth.columns[0])\n",
    "df_meth.loc['cg14329157'] = pd.Series(0.5, index=df_meth.columns)\n",
    "df_meth.loc['cg19167673'] = pd.Series(0.5, index=df_meth.columns)\n",
    "new_col = sorted(df_meth.columns)\n",
    "df_meth = df_meth.reindex(columns=new_col).loc[model_inputs].values.T\n",
    "df_ann = df_ann.reindex(columns=new_col).values.flatten()"
   ]
  },
  {
   "cell_type": "code",
   "execution_count": 71,
   "metadata": {},
   "outputs": [
    {
     "name": "stderr",
     "output_type": "stream",
     "text": [
      "No artists with labels found to put in legend.  Note that artists whose label start with an underscore are ignored when legend() is called with no argument.\n"
     ]
    },
    {
     "data": {
      "image/png": "[encoded data removed]",
      "text/plain": [
       "<Figure size 640x480 with 1 Axes>"
      ]
     },
     "metadata": {},
     "output_type": "display_data"
    }
   ],
   "source": [
    "pred = model.predict(df_meth)\n",
    "mae = np.median(np.abs(pred - df_ann))\n",
    "age_accel = np.mean((pred - df_ann))\n",
    "plt.plot(df_ann, pred, 'o', color='blue', mfc='none', markersize=20, markeredgewidth=5)\n",
    "lin_reg = LinearRegression(fit_intercept=True).fit(df_ann.reshape(-1, 1), pred)\n",
    "#plt.plot(np.arange(0,100), (np.arange(0,100) * lin_reg.coef_[0]) + lin_reg.intercept_, color='red', label='slope = ' + str(round(lin_reg.coef_[0], 2)), linewidth=10)\n",
    "#plt.plot(np.arange(0,100), np.arange(0,100), color='blue', label='y=x', linewidth=5)\n",
    "plt.title('(N = ' + str(len(df_ann)) + ', MAE = ' + str(round(mae,2)) + ', AA = ' + str(round(age_accel,2)) + ')')\n",
    "plt.xlim(0,5)\n",
    "plt.ylim(-40,15)\n",
    "plt.tick_params(axis='both', which='major', labelsize=10)\n",
    "plt.tick_params(axis='both', which='major', length=20, width=10)\n",
    "plt.gca().spines['left'].set_linewidth(10) \n",
    "plt.gca().spines['bottom'].set_linewidth(10) \n",
    "plt.gca().spines['top'].set_linewidth(10) \n",
    "plt.gca().spines['right'].set_linewidth(10) \n",
    "plt.legend(fontsize=10, loc='upper left')\n",
    "plt.xlabel(\"Chronological Age\", fontsize=10)\n",
    "plt.ylabel(\"Predicted Age\", fontsize=10)\n",
    "plt.show()"
   ]
  },
  {
   "cell_type": "code",
   "execution_count": 27,
   "metadata": {},
   "outputs": [],
   "source": [
    "def get_cpg_percentages_in_clocks(cpg_list, model_cpg_lists, model_names):\n",
    "        s = 0\n",
    "        for list in model_cpg_lists:\n",
    "                perc = len(set(cpg_list) & set(list)) / len(set(cpg_list))\n",
    "                print('Percent of cpgs that are in ' + model_names[s] + ': ' + str(perc * 100))\n",
    "                s = s + 1"
   ]
  },
  {
   "cell_type": "code",
   "execution_count": null,
   "metadata": {},
   "outputs": [],
   "source": [
    "model_names = ['altum', 'grim', 'hannum', 'horvath', 'skin blood', 'pheno']\n",
    "with open('cpg lists/altum_coeffs_cpg_sites_general.csv', 'r') as file:\n",
    "    altum_cpgs = set(file.read().splitlines())\n",
    "with open('cpg lists/grim_coeffs_cpg_sites_general.csv', 'r') as file:\n",
    "    grim_cpgs = set(file.read().splitlines())\n",
    "with open('cpg lists/hannum_coeffs_cpg_sites_general.csv', 'r') as file:\n",
    "    hannum_cpgs = set(file.read().splitlines())\n",
    "with open('cpg lists/horvath_coeffs_cpg_sites_general.csv', 'r') as file:\n",
    "    horvath_cpgs = set(file.read().splitlines())\n",
    "with open('cpg lists/horvath_skin_blood_coeffs_cpg_sites_general.csv', 'r') as file:\n",
    "    horvath_sb_cpgs = set(file.read().splitlines())\n",
    "with open('cpg lists/pheno_coeffs_cpg_sites_general.csv', 'r') as file:\n",
    "    pheno_cpgs = set(file.read().splitlines())"
   ]
  },
  {
   "cell_type": "code",
   "execution_count": 28,
   "metadata": {},
   "outputs": [
    {
     "ename": "NameError",
     "evalue": "name 'altum_cpgs' is not defined",
     "output_type": "error",
     "traceback": [
      "\u001b[1;31m---------------------------------------------------------------------------\u001b[0m",
      "\u001b[1;31mNameError\u001b[0m                                 Traceback (most recent call last)",
      "Cell \u001b[1;32mIn[28], line 1\u001b[0m\n\u001b[1;32m----> 1\u001b[0m lists \u001b[38;5;241m=\u001b[39m [\u001b[43maltum_cpgs\u001b[49m, grim_cpgs, hannum_cpgs, horvath_cpgs, horvath_sb_cpgs, pheno_cpgs]\n\u001b[0;32m      2\u001b[0m EPIC_cpgs \u001b[38;5;241m=\u001b[39m altum_cpgs \u001b[38;5;241m|\u001b[39m grim_cpgs \u001b[38;5;241m|\u001b[39m hannum_cpgs \u001b[38;5;241m|\u001b[39m horvath_cpgs \u001b[38;5;241m|\u001b[39m horvath_sb_cpgs \u001b[38;5;241m|\u001b[39m pheno_cpgs\n\u001b[0;32m      3\u001b[0m EPIC_cpgs \u001b[38;5;241m=\u001b[39m \u001b[38;5;28msorted\u001b[39m(EPIC_cpgs)\n",
      "\u001b[1;31mNameError\u001b[0m: name 'altum_cpgs' is not defined"
     ]
    }
   ],
   "source": [
    "lists = [altum_cpgs, grim_cpgs, hannum_cpgs, horvath_cpgs, horvath_sb_cpgs, pheno_cpgs]\n",
    "EPIC_cpgs = altum_cpgs | grim_cpgs | hannum_cpgs | horvath_cpgs | horvath_sb_cpgs | pheno_cpgs\n",
    "EPIC_cpgs = sorted(EPIC_cpgs)\n",
    "get_cpg_percentages_in_clocks(EPIC_cpgs, lists, model_names)"
   ]
  },
  {
   "cell_type": "code",
   "execution_count": null,
   "metadata": {},
   "outputs": [],
   "source": [
    "from itertools import combinations\n",
    "\n",
    "lists = [altum_cpgs, grim_cpgs, hannum_cpgs, horvath_cpgs, horvath_sb_cpgs, pheno_cpgs]\n",
    "# Compute common strings in at least two lists\n",
    "result_list = set()\n",
    "\n",
    "for combo in combinations(lists, 2):\n",
    "    result_list.update(set(combo[0]) & set(combo[1]))\n",
    "\n",
    "EPIC900_cpgs = sorted(result_list)\n",
    "get_cpg_percentages_in_clocks(EPIC900_cpgs, lists, model_names)"
   ]
  },
  {
   "cell_type": "code",
   "execution_count": null,
   "metadata": {},
   "outputs": [],
   "source": [
    "from itertools import combinations\n",
    "\n",
    "lists = [altum_cpgs, grim_cpgs, hannum_cpgs, horvath_cpgs, horvath_sb_cpgs, pheno_cpgs]\n",
    "# Compute common strings in at least two lists\n",
    "result_list = set()\n",
    "\n",
    "for combo in combinations(lists, 3):\n",
    "    result_list.update(set(combo[0]) & set(combo[1]))\n",
    "\n",
    "EPIC470_cpgs = sorted(result_list)\n",
    "get_cpg_percentages_in_clocks(EPIC470_cpgs, lists, model_names)"
   ]
  },
  {
   "cell_type": "code",
   "execution_count": null,
   "metadata": {},
   "outputs": [],
   "source": []
  },
  {
   "cell_type": "code",
   "execution_count": null,
   "metadata": {},
   "outputs": [],
   "source": [
    "missing_altum_cpgs = ['cg00149659', 'cg00155167', 'cg00210842', 'cg00214855', 'cg00280814', 'cg00309204', 'cg00398048', 'cg00432979', 'cg00436282', 'cg00461841', 'cg00547018', 'cg00551244', 'cg00630583', 'cg00648153', 'cg00650762', 'cg00659129', 'cg00917893', 'cg01036173', 'cg01139966', 'cg01311051', 'cg01371477', 'cg01381846', 'cg01481441', 'cg01488147', 'cg01491225', 'cg01511567', 'cg01533387', 'cg01578341', 'cg01630869', 'cg01675895', 'cg01725199', 'cg01773854', 'cg01776246', 'cg01808130', 'cg01813965', 'cg01817393', 'cg01889448', 'cg01936270', 'cg01990334', 'cg01994779', 'cg02065387', 'cg02105377', 'cg02121943', 'cg02284889', 'cg02304930', 'cg02309273', 'cg02342494', 'cg02430692', 'cg02475653', 'cg02600515', 'cg02646854', 'cg02655623', 'cg02724472', 'cg02756614', 'cg02757432', 'cg02831393', 'cg02888247', 'cg02904235', 'cg02916816', 'cg03085637', 'cg03102516', 'cg03148461', 'cg03165700', 'cg03221914', 'cg03264414', 'cg03302287', 'cg03382304', 'cg03454353', 'cg03476370', 'cg03600687', 'cg03684977', 'cg03747695', 'cg03750407', 'cg03785807', 'cg03807314', 'cg03909500', 'cg03955296', 'cg04001802', 'cg04033650', 'cg04063348', 'cg04117338', 'cg04121771', 'cg04126427', 'cg04187545', 'cg04219321', 'cg04229238', 'cg04338788', 'cg04368877', 'cg04376617', 'cg04497885', 'cg04599297', 'cg04616566', 'cg04619859', 'cg04705866', 'cg04743872', 'cg04752565', 'cg04762213', 'cg04820387', 'cg04856689', 'cg05087948', 'cg05130485', 'cg05164185', 'cg05168404', 'cg05189291', 'cg05200311', 'cg05205664', 'cg05313261', 'cg05321960', 'cg05380910', 'cg05411032', 'cg05467458', 'cg05473175', 'cg05564251', 'cg05669210', 'cg05726109', 'cg05727959', 'cg05779068', 'cg06007645', 'cg06148175', 'cg06150803', 'cg06151964', 'cg06251129', 'cg06291334', 'cg06321883', 'cg06356454', 'cg06366981', 'cg06386533', 'cg06459327', 'cg06491116', 'cg06506864', 'cg06537230', 'cg06665322', 'cg06718696', 'cg06725035', 'cg06885782', 'cg06995715', 'cg07009002', 'cg07207937', 'cg07274506', 'cg07295034', 'cg07398350', 'cg07414384', 'cg07503829', 'cg07613278', 'cg07707498', 'cg07844021', 'cg07903918', 'cg07928695', 'cg07979752', 'cg08089301', 'cg08126211', 'cg08198370', 'cg08212685', 'cg08228917', 'cg08426384', 'cg08521225', 'cg08576197', 'cg08578305', 'cg08596544', 'cg08661227', 'cg08662074', 'cg08674093', 'cg08724517', 'cg08797194', 'cg08859916', 'cg08927738', 'cg08935003', 'cg09009259', 'cg09087966', 'cg09205751', 'cg09296044', 'cg09338170', 'cg09374949', 'cg09375488', 'cg09386615', 'cg09453737', 'cg09559551', 'cg09638834', 'cg09688763', 'cg09752703', 'cg09868597', 'cg09871315', 'cg09872233', 'cg09929564', 'cg10000775', 'cg10021735', 'cg10025865', 'cg10058540', 'cg10146929', 'cg10247252', 'cg10305797', 'cg10365880', 'cg10367730', 'cg10409680', 'cg10450322', 'cg10453040', 'cg10773869', 'cg10878896', 'cg11114344', 'cg11126134', 'cg11189837', 'cg11337525', 'cg11388238', 'cg11405695', 'cg11484872', 'cg11593656', 'cg11608114', 'cg11654620', 'cg11655691', 'cg11670211', 'cg11781389', 'cg11877382', 'cg11911418', 'cg11913104', 'cg12067287', 'cg12126248', 'cg12187213', 'cg12188416', 'cg12188860', 'cg12274479', 'cg12288726', 'cg12365667', 'cg12368241', 'cg12403575', 'cg12503243', 'cg12513379', 'cg12535715', 'cg12542604', 'cg12556991', 'cg12578480', 'cg12624523', 'cg12627583', 'cg12629325', 'cg12638745', 'cg12643449', 'cg12644353', 'cg12646585', 'cg12696750', 'cg12737574', 'cg12758687', 'cg12830829', 'cg12835684', 'cg12884406', 'cg12914014', 'cg12952136', 'cg12991341', 'cg13058581', 'cg13080465', 'cg13131015', 'cg13234848', 'cg13243219', 'cg13297960', 'cg13326338', 'cg13372488', 'cg13410437', 'cg13633026', 'cg13634678', 'cg13645811', 'cg13654195', 'cg13722123', 'cg13735974', 'cg13877915', 'cg13882835', 'cg14047008', 'cg14091223', 'cg14133708', 'cg14138171', 'cg14149007', 'cg14178895', 'cg14236602', 'cg14318370', 'cg14329157', 'cg14372394', 'cg14423778', 'cg14426525', 'cg14472778', 'cg14545899', 'cg14613972', 'cg14671488', 'cg14700821', 'cg14795305', 'cg14800883', 'cg14802310', 'cg14839932', 'cg14916288', 'cg14927277', 'cg14932684', 'cg14948436', 'cg14981132', 'cg15078479', 'cg15214092', 'cg15269875', 'cg15308737', 'cg15316289', 'cg15329467', 'cg15350455', 'cg15411984', 'cg15481539', 'cg15488251', 'cg15565533', 'cg15572787', 'cg15597540', 'cg15605888', 'cg15673110', 'cg15687659', 'cg15707568', 'cg15727320', 'cg15736336', 'cg15739944', 'cg15747933', 'cg15792688', 'cg15798530', 'cg15824080', 'cg15869022', 'cg15903421', 'cg15977816', 'cg16001460', 'cg16007185', 'cg16094954', 'cg16121444', 'cg16173109', 'cg16185365', 'cg16250754', 'cg16257091', 'cg16280313', 'cg16310717', 'cg16341373', 'cg16361890', 'cg16427670', 'cg16551261', 'cg16592658', 'cg16677885', 'cg16689634', 'cg16721202', 'cg16779976', 'cg16796590', 'cg17133183', 'cg17304433', 'cg17304878', 'cg17352004', 'cg17353431', 'cg17416146', 'cg17543123', 'cg17563769', 'cg17582250', 'cg17607024', 'cg17683775', 'cg17701886', 'cg17729941', 'cg17754980', 'cg17851105', 'cg17890764', 'cg17895873', 'cg17904739', 'cg17920197', 'cg17971003', 'cg17990871', 'cg18003135', 'cg18139900', 'cg18190433', 'cg18202456', 'cg18219226', 'cg18248112', 'cg18292394', 'cg18357645', 'cg18384097', 'cg18392482', 'cg18413900', 'cg18427589', 'cg18587364', 'cg18619831', 'cg18641050', 'cg18704595', 'cg18722841', 'cg18811423', 'cg18953280', 'cg19072037', 'cg19154173', 'cg19167673', 'cg19356324', 'cg19455368', 'cg19595170', 'cg19632760', 'cg19767249', 'cg19831575', 'cg19835478', 'cg19904653', 'cg20011974', 'cg20023578', 'cg20051177', 'cg20139214', 'cg20263942', 'cg20284673', 'cg20287640', 'cg20346096', 'cg20496643', 'cg20525378', 'cg20585500', 'cg20627916', 'cg20728496', 'cg20775254', 'cg20789691', 'cg20795863', 'cg20881910', 'cg20932765', 'cg20969242', 'cg21092324', 'cg21165219', 'cg21206959', 'cg21289015', 'cg21298523', 'cg21504624', 'cg21611708', 'cg21618439', 'cg21642649', 'cg21667943', 'cg21678388', 'cg21712678', 'cg21754343', 'cg21820677', 'cg21922841', 'cg21939482', 'cg21968169', 'cg22021786', 'cg22051763', 'cg22283058', 'cg22295573', 'cg22341104', 'cg22377237', 'cg22464186', 'cg22680204', 'cg22800631', 'cg22814929', 'cg22825487', 'cg22926560', 'cg22995176', 'cg23018448', 'cg23032316', 'cg23036025', 'cg23054676', 'cg23074747', 'cg23114594', 'cg23226134', 'cg23240961', 'cg23274244', 'cg23282674', 'cg23306832', 'cg23337754', 'cg23408913', 'cg23520347', 'cg23632840', 'cg23698058', 'cg23735442', 'cg23792364', 'cg23858360', 'cg23896056', 'cg23957915', 'cg24034289', 'cg24084891', 'cg24088229', 'cg24101359', 'cg24117442', 'cg24176037', 'cg24341129', 'cg24400943', 'cg24445405', 'cg24481633', 'cg24497877', 'cg24532669', 'cg24558204', 'cg24687051', 'cg24735937', 'cg24792272', 'cg24832140', 'cg24903376', 'cg25007680', 'cg25017250', 'cg25098644', 'cg25101056', 'cg25149927', 'cg25172835', 'cg25219134', 'cg25302370', 'cg25418831', 'cg25425078', 'cg25527547', 'cg25598083', 'cg25762395', 'cg25788012', 'cg25802871', 'cg25859012', 'cg25922239', 'cg25956985', 'cg25969212', 'cg25985103', 'cg25990230', 'cg25999267', 'cg26020513', 'cg26045205', 'cg26069745', 'cg26097271', 'cg26199493', 'cg26266098', 'cg26357453', 'cg26530200', 'cg26637901', 'cg26647453', 'cg26665419', 'cg26729026', 'cg26764555', 'cg26767761', 'cg26790132', 'cg26809210', 'cg26820922', 'cg26850754', 'cg27015174', 'cg27091343', 'cg27363310', 'cg27376817', 'cg27398547', 'cg27519373', 'cg27519424', 'cg27566805', 'cg27655905']\n",
    "missing_horvath_cpgs = ['cg02654291', 'cg02972551', 'cg09785172', 'cg09869858', 'cg13682722', 'cg14329157', 'cg16494477', 'cg17408647', 'cg19167673', 'cg19273182', 'cg19945840', 'cg20795863', 'cg27319898', 'cg01511567', 'cg04431054', 'cg05590257', 'cg06117855', 'cg11388238', 'cg14423778', 'cg19046959', 'cg19569684', 'cg24471894', 'cg27016307']\n",
    "missing_hannum_cpgs = ['ch.13.39564907R', 'cg14361627', 'cg21139312', 'cg09651136', 'ch.2.30415474F', 'cg18473521', 'cg07927379', 'cg24079702', 'cg25428494']\n",
    "missing_horvath_sb_cpgs = ['cg07303143', 'cg14614643', 'cg11620135', 'cg01892695', 'cg13767001', 'cg26311454', 'cg06737494', 'cg02901139']\n",
    "missing_grim_cpgs = list(set(['cg20569940', 'cg26156167', 'cg20800892', 'cg03274876', 'cg17533522', 'cg14868212', 'cg13309828', 'cg03415429', 'cg15947697', 'cg11867651', 'cg07205627', 'cg12211040', 'cg01624571', 'cg08072101', 'cg03400403', 'cg21736089', 'cg03706056'] + ['cg06901711', 'cg24110177', 'cg10177080', 'cg15845365', 'cg02081065', 'cg03807873', 'cg07025011', 'cg02716826', 'cg13898384', 'cg09845806'] + ['cg21789941', 'cg13371627', 'cg00684178', 'cg03900798', 'cg17543884', 'cg15822010', 'cg24493971', 'cg16649728', 'cg05021075', 'cg01641177', 'cg07660627', 'cg23549061'] + ['cg16511983', 'cg01491219', 'cg05515143', 'cg00706683', 'cg19393314', 'cg21770393', 'cg01206872', 'cg14924781', 'cg01704252', 'cg07338119', 'cg19012696', 'cg12465010', 'cg06809342', 'cg04265051', 'cg12051762', 'cg17116694', 'cg25939203', 'cg23047825', 'cg03294557', 'cg27087885', 'cg20448001', 'cg15480287'] + ['cg25149516', 'cg11782409', 'cg07274490', 'cg07929447'] + ['cg04659537', 'cg12791136', 'cg12918464', 'cg00398048', 'cg09578605', 'cg21584251', 'cg04599158', 'cg02627240', 'cg01026009', 'cg03276920', 'cg22355889', 'cg26527903', 'cg13611456', 'cg27294156', 'cg06133392', 'cg23573129', 'cg09219182', 'cg18476633', 'cg26341773', 'cg25034591', 'cg03102848', 'cg18154457', 'cg11924796', 'cg08871010', 'cg06780601', 'cg27395754', 'cg02587153', 'cg15192905', 'cg08352336', 'cg01997410', 'cg16730484', 'cg22686892', 'cg14073590', 'cg07989867', 'cg21080294', 'cg14680768', 'cg10142252', 'cg18717447', 'cg03960747', 'cg16832801'] + ['cg24145109', 'cg08926056', 'cg05971102', 'cg12977946', 'cg06841024', 'cg10407935', 'cg05890887', 'cg12716346', 'cg21227060', 'cg11074353', 'cg07665217', 'cg02505126', 'cg21462914', 'cg19328485', 'cg02580722', 'cg10530344', 'cg21658515', 'cg09351263', 'cg22510362', 'cg00892703', 'cg08667899', 'cg23083672', 'cg02758183', 'cg20308511', 'cg21412053', 'cg26071410', 'cg09625066', 'cg11235848', 'cg02311013', 'cg21664443', 'cg05127178', 'cg19110434', 'cg25697726', 'cg03204600', 'cg11049305', 'cg13501581', 'cg01564693', 'cg10509982', 'cg20557017', 'cg05373692', 'cg05470074', 'cg08262933', 'cg15062055', 'cg12889449', 'cg23955970', 'cg05530348', 'cg11595135', 'cg06298190', 'cg20686207', 'cg14686949', 'cg18003791', 'cg05295197', 'cg23106779'] + ['cg04974804', 'cg12386614', 'cg13678787', 'cg03913456', 'cg24506130', 'cg05308744', 'cg06813250', 'cg07951602', 'cg26816491', 'cg06176987', 'cg22744079', 'cg12599971', 'cg05466385', 'cg26905845', 'cg03730314', 'cg19196326', 'cg17220237', 'cg25977769', 'cg07592681', 'cg14457452', 'cg22660341', 'cg01508796', 'cg17044529', 'cg01802397', 'cg01308343', 'cg15471661', 'cg16558846', 'cg25291250', 'cg02193806', 'cg05815247', 'cg18593194', 'cg22871721', 'cg17215151', 'cg22249566', 'cg17511128', 'cg02495445', 'cg16088894', 'cg13573587', 'cg03788610', 'cg03990195', 'cg08147391', 'cg05548952']))\n",
    "missing_cpgs = list(set(missing_altum_cpgs + missing_hannum_cpgs + missing_horvath_cpgs + missing_horvath_sb_cpgs + missing_grim_cpgs))"
   ]
  },
  {
   "cell_type": "code",
   "execution_count": null,
   "metadata": {},
   "outputs": [],
   "source": []
  },
  {
   "cell_type": "code",
   "execution_count": null,
   "metadata": {},
   "outputs": [],
   "source": []
  },
  {
   "cell_type": "code",
   "execution_count": null,
   "metadata": {},
   "outputs": [],
   "source": [
    "np.save('GTEX_trainX.npy', xtrain)\n",
    "np.save('GTEX_trainY.npy', ytrain)\n",
    "import json\n",
    "for key, value in testsets.items():\n",
    "    testsets[key] = tuple(arr.tolist() for arr in value)\n",
    "\n",
    "with open('GTEX_test.json', 'w') as file:\n",
    "   json.dump(testsets, file)"
   ]
  },
  {
   "cell_type": "code",
   "execution_count": null,
   "metadata": {},
   "outputs": [],
   "source": []
  },
  {
   "cell_type": "code",
   "execution_count": null,
   "metadata": {},
   "outputs": [],
   "source": [
    "print(data_dict)"
   ]
  },
  {
   "cell_type": "markdown",
   "metadata": {},
   "source": [
    "EnsembleEPIC"
   ]
  },
  {
   "cell_type": "code",
   "execution_count": null,
   "metadata": {},
   "outputs": [],
   "source": [
    "X_train, Y_train, test_sets = get_datasets(EPIC_cpgs)"
   ]
  },
  {
   "cell_type": "code",
   "execution_count": null,
   "metadata": {},
   "outputs": [],
   "source": [
    "#l1 = Lasso(alpha=0.01, fit_intercept=True).fit(X_train, Y_train)\n",
    "#joblib.dump(l1, 'regression_weights/L1Regression_EPIC.pkl')\n",
    "ensembleEPIC = joblib.load('regression_weights/L1Regression_EPIC.pkl')"
   ]
  },
  {
   "cell_type": "code",
   "execution_count": null,
   "metadata": {},
   "outputs": [],
   "source": [
    "plt.hist(ensembleEPIC.coef_, range=(-1,1))"
   ]
  },
  {
   "cell_type": "code",
   "execution_count": null,
   "metadata": {},
   "outputs": [],
   "source": [
    "show_results(ensembleEPIC, test_sets)"
   ]
  },
  {
   "cell_type": "markdown",
   "metadata": {},
   "source": [
    "EnsembleEPIC900"
   ]
  },
  {
   "cell_type": "code",
   "execution_count": null,
   "metadata": {},
   "outputs": [],
   "source": [
    "X_train, Y_train, test_sets = get_datasets(EPIC900_cpgs)"
   ]
  },
  {
   "cell_type": "code",
   "execution_count": null,
   "metadata": {},
   "outputs": [],
   "source": [
    "#l1 = Lasso(alpha=0.01, fit_intercept=True).fit(X_train, Y_train)\n",
    "#joblib.dump(l1, 'regression_weights/L1Regression_EPIC900.pkl')\n",
    "ensembleEPIC900 = joblib.load('regression_weights/L1Regression_EPIC900.pkl')\n",
    "\n",
    "#l1 = Ridge(alpha=0.01, fit_intercept=False).fit(X_train, Y_train)\n",
    "#joblib.dump(l1, 'regression_weights/L2Regression_EPIC900.pkl')\n",
    "#l1 = joblib.load('regression_weights/L2Regression_EPIC900.pkl')"
   ]
  },
  {
   "cell_type": "code",
   "execution_count": null,
   "metadata": {},
   "outputs": [],
   "source": [
    "plt.hist(ensembleEPIC900.coef_, range=(-1,1))"
   ]
  },
  {
   "cell_type": "code",
   "execution_count": null,
   "metadata": {},
   "outputs": [],
   "source": [
    "show_results(ensembleEPIC900, test_sets)"
   ]
  },
  {
   "cell_type": "markdown",
   "metadata": {},
   "source": [
    "EnsembleEPIC470"
   ]
  },
  {
   "cell_type": "code",
   "execution_count": null,
   "metadata": {},
   "outputs": [],
   "source": [
    "X_train, Y_train, test_sets = get_datasets(EPIC470_cpgs)"
   ]
  },
  {
   "cell_type": "code",
   "execution_count": null,
   "metadata": {},
   "outputs": [],
   "source": [
    "#l1 = Lasso(alpha=0.01, fit_intercept=True).fit(X_train, Y_train)\n",
    "#joblib.dump(l1, 'regression_weights/L1Regression_EPIC470.pkl')\n",
    "ensembleEPIC470 = joblib.load('regression_weights/L1Regression_EPIC470.pkl')\n",
    "\n",
    "#l1 = Ridge(alpha=0.01, fit_intercept=False).fit(X_train, Y_train)\n",
    "#joblib.dump(l1, 'regression_weights/L2Regression_EPIC470.pkl')\n",
    "#l1 = joblib.load('regression_weights/L2Regression_EPIC470.pkl')"
   ]
  },
  {
   "cell_type": "code",
   "execution_count": null,
   "metadata": {},
   "outputs": [],
   "source": [
    "plt.hist(ensembleEPIC470.coef_, range=(-1,1))"
   ]
  },
  {
   "cell_type": "code",
   "execution_count": null,
   "metadata": {},
   "outputs": [],
   "source": [
    "show_results(ensembleEPIC470, test_sets)"
   ]
  },
  {
   "cell_type": "code",
   "execution_count": null,
   "metadata": {},
   "outputs": [],
   "source": [
    "_, _, test_sets_21k = get_datasets(EPIC_cpgs)\n",
    "_, _, test_sets_900 = get_datasets(EPIC900_cpgs)\n",
    "_, _, test_sets_470 = get_datasets(EPIC470_cpgs)\n",
    "X_train, Y_train, test_sets_pearson = get_datasets(EPICpearson_cpgs)"
   ]
  },
  {
   "cell_type": "code",
   "execution_count": null,
   "metadata": {},
   "outputs": [],
   "source": [
    "ensembleEPICpearson= Ridge(alpha=0.01, fit_intercept=True).fit(X_train, Y_train)"
   ]
  },
  {
   "cell_type": "code",
   "execution_count": null,
   "metadata": {},
   "outputs": [],
   "source": [
    "joblib.dump(ensembleEPICpearson, 'regression_weights/L2Regression_EPICPearson.pkl')"
   ]
  },
  {
   "cell_type": "code",
   "execution_count": null,
   "metadata": {},
   "outputs": [],
   "source": [
    "fontSize = 100\n",
    "legendFontSize = 70\n",
    "tickLabelSize = 60\n",
    "n = 0\n",
    "accels = {}\n",
    "errors = {}\n",
    "slopes = {}\n",
    "for organ_type in organs:\n",
    "        curr_mae = []\n",
    "        curr_aa = []\n",
    "        curr_slopes = []\n",
    "        df = pd.read_table('input/GTEx/GTEx_' + organ_type + '.meth.csv')\n",
    "        df_grim = pd.read_table('input/GTEx/GTEx_' + organ_type + '.meth.csv')\n",
    "        missing_rows = [[cpg] + [0.5] * (len(df.columns) - 1) for cpg in missing_cpgs]\n",
    "        df = pd.concat([df, pd.DataFrame(missing_rows, columns=df.columns)], ignore_index=True)\n",
    "        df_grim = pd.concat([df_grim, pd.DataFrame([[cpg] + [0.5] * (len(df.columns) - 1) for cpg in missing_grim_cpgs], columns=df_grim.columns)], ignore_index=True)\n",
    "        real_age, real_gender = get_true_age_labels('input/GTEx/GTEx_' + organ_type + '.anno.csv')\n",
    "        df_grim = pd.concat([df_grim, pd.DataFrame([['Age'] + list(real_age)], columns=df_grim.columns)], ignore_index=True)\n",
    "        df_grim = pd.concat([df_grim, pd.DataFrame([['Female'] + list(real_gender)], columns=df_grim.columns)], ignore_index=True)\n",
    "        \n",
    "        print('Ensemble Naive')\n",
    "        pred = np.mean([get_altum_age(df), get_horvath_age(df), get_hannum_age(df), get_pheno_age(df), get_horvath_sb_age(df), get_grim_age(df_grim)], axis=0)\n",
    "        plt.figure(figsize=(26,26))\n",
    "        plt.plot(real_age, pred, 'o', color='black', mfc='none', markersize=20, markeredgewidth=5)\n",
    "        lin_reg = LinearRegression(fit_intercept=True).fit(real_age.reshape((-1, 1)), pred)\n",
    "        plt.plot(np.arange(0,100), (np.arange(0,100) * lin_reg.coef_[0]) + lin_reg.intercept_, color='red', label='slope = ' + str(round(lin_reg.coef_[0], 2)), linewidth=10)\n",
    "        plt.plot(np.arange(0,100), np.arange(0,100), color='blue', label='y=x', linewidth=5)\n",
    "        plt.xlim(0, 100)\n",
    "        plt.ylim(0, 100)\n",
    "        plt.tick_params(axis='both', which='major', labelsize=tickLabelSize)\n",
    "        plt.tick_params(axis='both', which='major', length=20, width=10)\n",
    "        plt.gca().spines['left'].set_linewidth(10) \n",
    "        plt.gca().spines['bottom'].set_linewidth(10) \n",
    "        plt.gca().spines['top'].set_linewidth(10) \n",
    "        plt.gca().spines['right'].set_linewidth(10) \n",
    "        plt.legend(fontsize=legendFontSize, loc='upper left')\n",
    "        plt.title(organ_type + \" (N = \" + str(len(real_age)) + \") Ensemble Naive\", fontsize=fontSize)\n",
    "        plt.xlabel(\"Chronological Age\", fontsize=fontSize)\n",
    "        plt.ylabel(\"Predicted Age\", fontsize=fontSize)\n",
    "        save_path = 'Graphs/Figure_' + str(n) + '1.png'\n",
    "        plt.gca().set_aspect('equal', adjustable='box')\n",
    "        plt.subplots_adjust(top=1)\n",
    "        plt.savefig(save_path)\n",
    "        plt.clf()\n",
    "        curr_mae.append(np.median(np.abs(pred - real_age)))\n",
    "        curr_aa.append(np.mean((pred - real_age)))\n",
    "        curr_slopes.append(round(lin_reg.coef_[0], 2))\n",
    "\n",
    "        print('Ensemble 21k L1')\n",
    "        pred = joblib.load('regression_weights/L1Regression_EPIC.pkl').predict(test_sets_21k[n][0])\n",
    "        plt.figure(figsize=(26,26))\n",
    "        plt.plot(test_sets_21k[n][1], pred, 'o', color='black', mfc='none', markersize=20, markeredgewidth=5)\n",
    "        lin_reg = LinearRegression(fit_intercept=True).fit(test_sets_21k[n][1].reshape((-1, 1)), pred)\n",
    "        plt.plot(np.arange(0,100), (np.arange(0,100) * lin_reg.coef_[0]) + lin_reg.intercept_, color='red', label='slope = ' + str(round(lin_reg.coef_[0], 2)), linewidth=10)\n",
    "        plt.plot(np.arange(0,100), np.arange(0,100), color='blue', label='y=x', linewidth=5)\n",
    "        plt.xlim(0, 100)\n",
    "        plt.ylim(0, 100)\n",
    "        plt.tick_params(axis='both', which='major', labelsize=tickLabelSize)\n",
    "        plt.tick_params(axis='both', which='major', length=20, width=10)\n",
    "        plt.gca().spines['left'].set_linewidth(10) \n",
    "        plt.gca().spines['bottom'].set_linewidth(10) \n",
    "        plt.gca().spines['top'].set_linewidth(10) \n",
    "        plt.gca().spines['right'].set_linewidth(10) \n",
    "        plt.legend(fontsize=legendFontSize, loc='upper left')\n",
    "        plt.title(organ_type + \" (N = \" + str(len(test_sets_21k[n][1])) + \") Ensemble 21k L1\", fontsize=fontSize)\n",
    "        plt.xlabel(\"Chronological Age\", fontsize=fontSize)\n",
    "        plt.ylabel(\"Predicted Age\", fontsize=fontSize)\n",
    "        save_path = 'Graphs/Figure_' + str(n) + '2.png'\n",
    "        plt.gca().set_aspect('equal', adjustable='box')\n",
    "        plt.subplots_adjust(top=1)\n",
    "        plt.savefig(save_path)\n",
    "        plt.clf()\n",
    "        curr_mae.append(np.median(np.abs(pred - test_sets_21k[n][1])))\n",
    "        curr_aa.append(np.mean((pred - test_sets_21k[n][1])))\n",
    "        curr_slopes.append(round(lin_reg.coef_[0], 2))\n",
    "\n",
    "        print('Ensemble 900 L1')\n",
    "        pred = joblib.load('regression_weights/L1Regression_EPIC900.pkl').predict(test_sets_900[n][0])\n",
    "        plt.figure(figsize=(26,26))\n",
    "        plt.plot(test_sets_900[n][1], pred, 'o', color='black', mfc='none', markersize=20, markeredgewidth=5)\n",
    "        lin_reg = LinearRegression(fit_intercept=True).fit(test_sets_900[n][1].reshape((-1, 1)), pred)\n",
    "        plt.plot(np.arange(0,100), (np.arange(0,100) * lin_reg.coef_[0]) + lin_reg.intercept_, color='red', label='slope = ' + str(round(lin_reg.coef_[0], 2)), linewidth=10)\n",
    "        plt.plot(np.arange(0,100), np.arange(0,100), color='blue', label='y=x', linewidth=5)\n",
    "        plt.xlim(0, 100)\n",
    "        plt.ylim(0, 100)\n",
    "        plt.tick_params(axis='both', which='major', labelsize=tickLabelSize)\n",
    "        plt.tick_params(axis='both', which='major', length=20, width=10)\n",
    "        plt.gca().spines['left'].set_linewidth(10) \n",
    "        plt.gca().spines['bottom'].set_linewidth(10) \n",
    "        plt.gca().spines['top'].set_linewidth(10) \n",
    "        plt.gca().spines['right'].set_linewidth(10) \n",
    "        plt.legend(fontsize=legendFontSize, loc='upper left')\n",
    "        plt.title(organ_type + \" (N = \" + str(len(test_sets_900[n][1])) + \") Ensemble 900 L1\", fontsize=fontSize)\n",
    "        plt.xlabel(\"Chronological Age\", fontsize=fontSize)\n",
    "        plt.ylabel(\"Predicted Age\", fontsize=fontSize)\n",
    "        save_path = 'Graphs/Figure_' + str(n) + '3.png'\n",
    "        plt.gca().set_aspect('equal', adjustable='box')\n",
    "        plt.subplots_adjust(top=1)\n",
    "        plt.savefig(save_path)\n",
    "        plt.clf()\n",
    "        curr_mae.append(np.median(np.abs(pred - test_sets_900[n][1])))\n",
    "        curr_aa.append(np.mean((pred - test_sets_900[n][1])))\n",
    "        curr_slopes.append(round(lin_reg.coef_[0], 2))\n",
    "\n",
    "        print('Ensemble 470 L1')\n",
    "        pred = joblib.load('regression_weights/L1Regression_EPIC470.pkl').predict(test_sets_470[n][0])\n",
    "        plt.figure(figsize=(26,26))\n",
    "        plt.plot(test_sets_470[n][1], pred, 'o', color='black', mfc='none', markersize=20, markeredgewidth=5)\n",
    "        lin_reg = LinearRegression(fit_intercept=True).fit(test_sets_470[n][1].reshape((-1, 1)), pred)\n",
    "        plt.plot(np.arange(0,100), (np.arange(0,100) * lin_reg.coef_[0]) + lin_reg.intercept_, color='red', label='slope = ' + str(round(lin_reg.coef_[0], 2)), linewidth=10)\n",
    "        plt.plot(np.arange(0,100), np.arange(0,100), color='blue', label='y=x', linewidth=5)\n",
    "        plt.xlim(0, 100)\n",
    "        plt.ylim(0, 100)\n",
    "        plt.tick_params(axis='both', which='major', labelsize=tickLabelSize)\n",
    "        plt.tick_params(axis='both', which='major', length=20, width=10)\n",
    "        plt.gca().spines['left'].set_linewidth(10) \n",
    "        plt.gca().spines['bottom'].set_linewidth(10) \n",
    "        plt.gca().spines['top'].set_linewidth(10) \n",
    "        plt.gca().spines['right'].set_linewidth(10) \n",
    "        plt.legend(fontsize=legendFontSize, loc='upper left')\n",
    "        plt.title(organ_type + \" (N = \" + str(len(test_sets_470[n][1])) + \") Ensemble 470 L1\", fontsize=fontSize)\n",
    "        plt.xlabel(\"Chronological Age\", fontsize=fontSize)\n",
    "        plt.ylabel(\"Predicted Age\", fontsize=fontSize)\n",
    "        save_path = 'Graphs/Figure_' + str(n) + '4.png'\n",
    "        plt.gca().set_aspect('equal', adjustable='box')\n",
    "        plt.subplots_adjust(top=1)\n",
    "        plt.savefig(save_path)\n",
    "        plt.clf()\n",
    "        curr_mae.append(np.median(np.abs(pred - test_sets_470[n][1])))\n",
    "        curr_aa.append(np.mean((pred - test_sets_470[n][1])))\n",
    "        curr_slopes.append(round(lin_reg.coef_[0], 2))\n",
    "\n",
    "        print('Ensemble 470 L2')\n",
    "        pred = joblib.load('regression_weights/L2Regression_EPIC470.pkl').predict(test_sets_470[n][0])\n",
    "        plt.figure(figsize=(26,26))\n",
    "        plt.plot(test_sets_470[n][1], pred, 'o', color='black', mfc='none', markersize=20, markeredgewidth=5)\n",
    "        lin_reg = LinearRegression(fit_intercept=True).fit(test_sets_470[n][1].reshape((-1, 1)), pred)\n",
    "        plt.plot(np.arange(0,100), (np.arange(0,100) * lin_reg.coef_[0]) + lin_reg.intercept_, color='red', label='slope = ' + str(round(lin_reg.coef_[0], 2)), linewidth=10)\n",
    "        plt.plot(np.arange(0,100), np.arange(0,100), color='blue', label='y=x', linewidth=5)\n",
    "        plt.xlim(0, 100)\n",
    "        plt.ylim(0, 100)\n",
    "        plt.tick_params(axis='both', which='major', labelsize=tickLabelSize)\n",
    "        plt.tick_params(axis='both', which='major', length=20, width=10)\n",
    "        plt.gca().spines['left'].set_linewidth(10) \n",
    "        plt.gca().spines['bottom'].set_linewidth(10) \n",
    "        plt.gca().spines['top'].set_linewidth(10) \n",
    "        plt.gca().spines['right'].set_linewidth(10) \n",
    "        plt.legend(fontsize=legendFontSize, loc='upper left')\n",
    "        plt.title(organ_type + \" (N = \" + str(len(test_sets_470[n][1])) + \") Ensemble 470 L2\", fontsize=fontSize)\n",
    "        plt.xlabel(\"Chronological Age\", fontsize=fontSize)\n",
    "        plt.ylabel(\"Predicted Age\", fontsize=fontSize)\n",
    "        save_path = 'Graphs/Figure_' + str(n) + '5.png'\n",
    "        plt.gca().set_aspect('equal', adjustable='box')\n",
    "        plt.subplots_adjust(top=1)\n",
    "        plt.savefig(save_path)\n",
    "        plt.clf()\n",
    "        curr_mae.append(np.median(np.abs(pred - test_sets_470[n][1])))\n",
    "        curr_aa.append(np.mean((pred - test_sets_470[n][1])))\n",
    "        curr_slopes.append(round(lin_reg.coef_[0], 2))\n",
    "\n",
    "        print('Ensemble Pearson Model')\n",
    "        pred = ensembleEPICpearson.predict(test_sets_pearson[n][0])\n",
    "        plt.figure(figsize=(26,26))\n",
    "        plt.plot(test_sets_pearson[n][1], pred, 'o', color='black', mfc='none', markersize=20, markeredgewidth=5)\n",
    "        lin_reg = LinearRegression(fit_intercept=True).fit(test_sets_pearson[n][1].reshape((-1, 1)), pred)\n",
    "        plt.plot(np.arange(0,100), (np.arange(0,100) * lin_reg.coef_[0]) + lin_reg.intercept_, color='red', label='slope = ' + str(round(lin_reg.coef_[0], 2)), linewidth=10)\n",
    "        plt.plot(np.arange(0,100), np.arange(0,100), color='blue', label='y=x', linewidth=5)\n",
    "        plt.xlim(0, 100)\n",
    "        plt.ylim(0, 100)\n",
    "        plt.tick_params(axis='both', which='major', labelsize=tickLabelSize)\n",
    "        plt.tick_params(axis='both', which='major', length=20, width=10)\n",
    "        plt.gca().spines['left'].set_linewidth(10) \n",
    "        plt.gca().spines['bottom'].set_linewidth(10) \n",
    "        plt.gca().spines['top'].set_linewidth(10) \n",
    "        plt.gca().spines['right'].set_linewidth(10) \n",
    "        plt.legend(fontsize=legendFontSize, loc='upper left')\n",
    "        plt.title(organ_type + \" (N = \" + str(len(test_sets_pearson[n][1])) + \") Ensemble Pearson L2\", fontsize=fontSize)\n",
    "        plt.xlabel(\"Chronological Age\", fontsize=fontSize)\n",
    "        plt.ylabel(\"Predicted Age\", fontsize=fontSize)\n",
    "        save_path = 'Graphs/Figure_' + str(n) + '6.png'\n",
    "        plt.gca().set_aspect('equal', adjustable='box')\n",
    "        plt.subplots_adjust(top=1)\n",
    "        plt.savefig(save_path)\n",
    "        plt.clf()\n",
    "        curr_mae.append(np.median(np.abs(pred - test_sets_pearson[n][1])))\n",
    "        curr_aa.append(np.mean((pred - test_sets_pearson[n][1])))\n",
    "        curr_slopes.append(round(lin_reg.coef_[0], 2))\n",
    "\n",
    "        errors[organ_type] = curr_mae\n",
    "        accels[organ_type] = curr_aa\n",
    "        slopes[organ_type] = curr_slopes\n",
    "        n = n + 1\n",
    "print(errors)\n",
    "print(accels)"
   ]
  },
  {
   "cell_type": "code",
   "execution_count": null,
   "metadata": {},
   "outputs": [],
   "source": [
    "def dict_of_lists_to_2d_list(dictionary):\n",
    "    # Get the values from the dictionary\n",
    "    lists = list(dictionary.values())\n",
    "\n",
    "    # Find the maximum length of any list in the dictionary\n",
    "    max_length = max(len(lst) for lst in lists)\n",
    "\n",
    "    # Create a 2D list with None as a placeholder for missing values\n",
    "    result = [[None] * max_length for _ in range(len(lists))]\n",
    "\n",
    "    # Fill in the values from the dictionary\n",
    "    for i, lst in enumerate(lists):\n",
    "        result[i][:len(lst)] = lst\n",
    "\n",
    "    return result\n",
    "\n",
    "def create_dataframe(data, rows, columns):\n",
    "    df = pd.DataFrame(data, index=rows, columns=columns)\n",
    "    return df\n",
    "\n",
    "slopes_df = create_dataframe(dict_of_lists_to_2d_list(slopes), , )\n",
    "mae_df = create_dataframe(dict_of_lists_to_2d_list(errors), , )\n",
    "aa_df = create_dataframe(dict_of_lists_to_2d_list(accels), , )"
   ]
  },
  {
   "cell_type": "code",
   "execution_count": null,
   "metadata": {},
   "outputs": [],
   "source": [
    "# Resize images to a consistent size (optional)\n",
    "resize_width = 2600\n",
    "resize_height = 2600\n",
    "\n",
    "\n",
    "# Create a new image with the grid layout\n",
    "grid_width = 6\n",
    "grid_height = 9\n",
    "grid_image_width = grid_width * resize_width\n",
    "grid_image_height = grid_height * resize_height\n",
    "grid_image = Image.new('RGB', (grid_image_width, grid_image_height))\n",
    "\n",
    "# Set the images in each subplot\n",
    "for i in range(0,9):\n",
    "    for j in range(1,7):\n",
    "        path = 'Graphs/Figure_' + str(i) + str(j) + '.png'\n",
    "        grid_image.paste(Image.open(path), ((j - 1) * resize_width, i * resize_height))\n",
    "grid_image.save('grid_image.jpg')"
   ]
  },
  {
   "cell_type": "code",
   "execution_count": null,
   "metadata": {},
   "outputs": [],
   "source": [
    "errors = {'Blood': [3.1902291689176447, 3.3059021443694263, 3.6475627141710447, 3.8941892304324597, 4.724359443758118], 'Breast': [8.237099532189195, 3.343654424635389, 3.5418178794785007, 3.3347556601528723, 3.7431760660891342], 'Colon': [6.712258781700797, 4.388278695422812, 3.624027526655155, 4.019259794817856, 4.6716306684348226], 'Kidney': [10.456722212420829, 3.172162081821149, 1.8078373000216992, 1.4713088238352015, 2.89167077008171], 'Lung': [8.32913002338693, 3.4137010167879254, 4.469695600707993, 4.567031214024944, 3.12489062260984], 'Muscle': [25.528738617597334, 4.067805935361385, 3.5107396974364704, 4.373982392635192, 6.201655727439903], 'Ovary': [31.629721598948837, 4.098589350622191, 4.066679978204455, 4.907958305528815, 5.317237749771827], 'Prostate': [14.45670330790707, 3.7288087330797595, 3.494434456022603, 4.265567817414748, 3.6948774906454815], 'Testis': [29.915152323057228, 6.00903771253417, 4.714350148951517, 3.591502870647094, 4.023328120882255]}\n",
    "accels = {'Blood': [-0.5244471853803816, -0.27876765201304854, 1.6047480682122135, 1.1675381294997378, 0.7814086633426256], 'Breast': [-8.678393102267293, -1.45321487963057, -5.1973512626800185, -5.665537206970833, -4.4535297767527755], 'Colon': [-5.082829791493533, -1.2655562604781503, -0.7270558513134694, -1.127722784182483, -2.300345765417525], 'Kidney': [-9.774729885105572, 1.6846675029775668, 0.5910875071569819, 0.6596935470102607, 0.6593651088360971], 'Lung': [-8.327966035073093, 0.027027265939299067, -0.4028702893730277, -0.2700601585704208, 0.2066651525573204], 'Muscle': [-25.458330548666908, 1.0817979682130514, 1.9069857889736959, 2.0706593371110515, 3.5133755025328433], 'Ovary': [-29.550575375649615, -0.6413409143502291, 0.10189540745026815, -0.22958830158479965, 0.39866338015154756], 'Prostate': [-14.078356511044312, -2.096535664402184, -2.269027544789228, -3.274597879816121, -2.458956042166312], 'Testis': [-29.9464763373384, -5.549734709267472, -4.86958908439152, -4.348822249280798, -5.651229171879116]}"
   ]
  }
 ],
 "metadata": {
  "kernelspec": {
   "display_name": "base",
   "language": "python",
   "name": "python3"
  },
  "language_info": {
   "codemirror_mode": {
    "name": "ipython",
    "version": 3
   },
   "file_extension": ".py",
   "mimetype": "text/x-python",
   "name": "python",
   "nbconvert_exporter": "python",
   "pygments_lexer": "ipython3",
   "version": "3.10.14 (main, May  6 2024, 14:47:20) [Clang 14.0.6 ]"
  },
  "vscode": {
   "interpreter": {
    "hash": "dce5624d8581eee68c9a0506f748e676920f57d808eff4d97f13d2ff3251d1b5"
   }
  }
 },
 "nbformat": 4,
 "nbformat_minor": 2
}
